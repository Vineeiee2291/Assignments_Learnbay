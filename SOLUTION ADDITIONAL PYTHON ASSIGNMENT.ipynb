{
 "cells": [
  {
   "cell_type": "markdown",
   "id": "03befc99",
   "metadata": {},
   "source": [
    "# Assume Data wherever needed/necessary"
   ]
  },
  {
   "cell_type": "markdown",
   "id": "9ee94901",
   "metadata": {},
   "source": [
    "### Loop Statements"
   ]
  },
  {
   "cell_type": "code",
   "execution_count": null,
   "id": "fba6e1f3",
   "metadata": {},
   "outputs": [],
   "source": [
    "# WAP stands for Write A Program"
   ]
  },
  {
   "cell_type": "code",
   "execution_count": null,
   "id": "4380a900",
   "metadata": {},
   "outputs": [],
   "source": [
    "#L1 E\n",
    "WAP to print all elements of a list using a for loop. \n",
    "Take the elements of the list from the user.\n",
    "\n",
    "For e.g. Input: l = [3,'Hi',67,0,12,0,8]\n",
    "        Output: 3\n",
    "                'Hi'\n",
    "                67\n",
    "                0\n",
    "                12\n",
    "                0\n",
    "                8"
   ]
  },
  {
   "cell_type": "code",
   "execution_count": 4,
   "id": "03d30337",
   "metadata": {},
   "outputs": [
    {
     "name": "stdout",
     "output_type": "stream",
     "text": [
      "Enter elements : 3\n",
      "Enter elements : Hi\n",
      "Enter elements : 67\n",
      "Enter elements : 0\n",
      "Enter elements : 12\n",
      "Enter elements : 0\n",
      "Enter elements : 8\n",
      "List elements are =  ['3', 'Hi', '67', '0', '12', '0', '8']\n"
     ]
    }
   ],
   "source": [
    "# Solution : \n",
    "\n",
    "elements = []\n",
    "\n",
    "for i in range(1, 8) :\n",
    "    l = input(\"Enter elements : \")\n",
    "    elements.append(l)\n",
    "    \n",
    "print(\"List elements are = \", elements)"
   ]
  },
  {
   "cell_type": "code",
   "execution_count": null,
   "id": "23b9f416",
   "metadata": {},
   "outputs": [],
   "source": [
    "#L2 M\n",
    "WAP to take inputs from user to make a list. Length of the list has to be taken from the user.\n",
    "Again take one input from user and search it in the list and delete that element, if found.\n",
    "If not found, print \"Element not present\".\n",
    "\n",
    "For e.g. Input: len_list = 5\n",
    "                list = [\"a\", \"b\", \"y\", \"e\", \"p\"]\n",
    "                search_element = \"g\"\n",
    "                    Output: \"Element not found\"\n",
    "                search_element = \"e\"\n",
    "                    Output: [\"a\", \"b\", \"y\", \"p\"]"
   ]
  },
  {
   "cell_type": "code",
   "execution_count": 14,
   "id": "a22f5289",
   "metadata": {},
   "outputs": [
    {
     "name": "stdout",
     "output_type": "stream",
     "text": [
      "Enter the length of List = 5\n",
      "a\n",
      "b\n",
      "c\n",
      "d\n",
      "e\n",
      "['a', 'b', 'c', 'd', 'e']\n",
      "Enter element : d\n",
      "['a', 'b', 'c', 'e']\n"
     ]
    }
   ],
   "source": [
    "# Solution :\n",
    "\n",
    "n = int(input(\"Enter the length of List = \"))\n",
    "list0 = []\n",
    "\n",
    "for i in range(0, n) :\n",
    "    element = input()\n",
    "    list0.append(element)\n",
    "    \n",
    "print(list0)\n",
    "\n",
    "input_ = input(\"Enter element : \")\n",
    "\n",
    "for k in list0 :\n",
    "    if input_ in list0 :\n",
    "        list0.remove(input_)\n",
    "        print(list0)\n",
    "        break\n",
    "        \n",
    "    else :\n",
    "        print(\"Element not found\")\n",
    "        break"
   ]
  },
  {
   "cell_type": "code",
   "execution_count": null,
   "id": "336dd04d",
   "metadata": {},
   "outputs": [],
   "source": [
    "#L3 EM\n",
    "Make a grading system for a school based on the marks of the students using the following criteria.\n",
    "Marks 0 - 40 : Grade F\n",
    "     41 - 50 : Grade E\n",
    "     51 - 70 : Grade D\n",
    "     71 - 80 : Grade C\n",
    "     81 - 90 : Grade B\n",
    "     91 - 100: Grade A\n",
    "Continuously take marks as input from the user and print the grade. \n",
    "The user can enter \"Stop\" to stop the loop."
   ]
  },
  {
   "cell_type": "code",
   "execution_count": 17,
   "id": "727265c7",
   "metadata": {},
   "outputs": [
    {
     "name": "stdout",
     "output_type": "stream",
     "text": [
      "Type value greater than 100 to stop\n",
      "Marks : 45\n",
      "GRADE E\n",
      "Marks : 89\n",
      "GRADE B\n",
      "Marks : 98\n",
      "GRADE A\n",
      "Marks : 66\n",
      "GRADE D\n",
      "Marks : 111\n",
      "STOP\n"
     ]
    }
   ],
   "source": [
    "# Solution :\n",
    "\n",
    "print(\"Type value greater than 100 to stop\")\n",
    "while True :\n",
    "    marks = int(input(\"Marks : \"))\n",
    "    if marks <= 40 :\n",
    "        print(\"GRADE F\")\n",
    "    elif marks <= 50 :\n",
    "        print(\"GRADE E\")\n",
    "    elif marks <= 70 :\n",
    "        print(\"GRADE D\")\n",
    "    elif marks <= 80 :\n",
    "        print(\"GRADE C\")\n",
    "    elif marks <= 90 :\n",
    "        print(\"GRADE B\")\n",
    "    elif marks <= 100 :\n",
    "        print(\"GRADE A\")\n",
    "    else :\n",
    "        print(\"STOP\")\n",
    "        break"
   ]
  },
  {
   "cell_type": "code",
   "execution_count": null,
   "id": "ee97b603",
   "metadata": {},
   "outputs": [],
   "source": [
    "#L4 E\n",
    "WAP to save the cube of all numbers from 1 to a number n in list, \n",
    "where n is taken as input from the user.\n",
    "\n",
    "For e.g. Input: 5\n",
    "        Output: [1, 8, 27, 64, 125]  #Cube of numbers from 1 to 5 where 5 is the input from the user"
   ]
  },
  {
   "cell_type": "code",
   "execution_count": 18,
   "id": "116485f8",
   "metadata": {},
   "outputs": [
    {
     "name": "stdout",
     "output_type": "stream",
     "text": [
      "Enter the number : 5\n",
      "[1, 8, 27, 64, 125]\n"
     ]
    }
   ],
   "source": [
    "# Solution :\n",
    "\n",
    "n = int(input(\"Enter the number : \"))\n",
    "\n",
    "list1 = []\n",
    "\n",
    "for i in range(1, n+1) :\n",
    "    cube = i**3\n",
    "    list1.append(cube)\n",
    "    \n",
    "print(list1)"
   ]
  },
  {
   "cell_type": "code",
   "execution_count": null,
   "id": "e2facc1f",
   "metadata": {},
   "outputs": [],
   "source": [
    "#L5 E\n",
    "WAP to print even numbers in a given range in reverse order. Take the range from the user.\n",
    "\n",
    "For e.g. Input: start = 3\n",
    "                End = 14\n",
    "        Output: 14, 12, 10, 8, 6, 4"
   ]
  },
  {
   "cell_type": "code",
   "execution_count": 19,
   "id": "eadc5b95",
   "metadata": {},
   "outputs": [
    {
     "name": "stdout",
     "output_type": "stream",
     "text": [
      "Enter the start rangr : 3\n",
      "Enter the end range14\n",
      "Even numbers in given range =  [14, 12, 10, 8, 6, 4]\n"
     ]
    }
   ],
   "source": [
    "# Solution \n",
    "\n",
    "start = int(input(\"Enter the start rangr : \"))\n",
    "end = int(input(\"Enter the end range\"))\n",
    "\n",
    "list2 = []\n",
    "\n",
    "for i in range(start, end+1) :\n",
    "    if i % 2 == 0 :\n",
    "        list2.append(i)\n",
    "        \n",
    "reverse = list2[ : : -1]\n",
    "print(\"Even numbers in given range = \", reverse)\n",
    "        "
   ]
  },
  {
   "cell_type": "code",
   "execution_count": null,
   "id": "32524415",
   "metadata": {},
   "outputs": [],
   "source": [
    "#L6 E\n",
    "WAP to print odd numbers in a given range in reverse order.\n",
    "Take the range from the user.\n",
    "\n",
    "For e.g. Input: start = 3\n",
    "                End = 14\n",
    "        Output: 13, 11, 9, 7, 5, 3"
   ]
  },
  {
   "cell_type": "code",
   "execution_count": 20,
   "id": "0ead06be",
   "metadata": {},
   "outputs": [
    {
     "name": "stdout",
     "output_type": "stream",
     "text": [
      "Enter the start rangr : 3\n",
      "Enter the end range14\n",
      "Odd numbers in given range =  [13, 11, 9, 7, 5, 3]\n"
     ]
    }
   ],
   "source": [
    "# Solution :\n",
    "\n",
    "start = int(input(\"Enter the start rangr : \"))\n",
    "end = int(input(\"Enter the end range\"))\n",
    "\n",
    "list3 = []\n",
    "\n",
    "for i in range(start, end+1) :\n",
    "    if i % 2 != 0 :\n",
    "        list3.append(i)\n",
    "        \n",
    "reverse = list3[ : : -1]\n",
    "print(\"Odd numbers in given range = \", reverse)"
   ]
  },
  {
   "cell_type": "code",
   "execution_count": null,
   "id": "a0bc83d8",
   "metadata": {},
   "outputs": [],
   "source": [
    "#L7 E\n",
    "WAP to print multiplication table of a number taken as input from the user.\n",
    "\n",
    "For e.g. Input: 5\n",
    "        Output: 5*1 = 5\n",
    "                5*2 = 10\n",
    "                .\n",
    "                .\n",
    "                .\n",
    "                5*10 = 50"
   ]
  },
  {
   "cell_type": "code",
   "execution_count": 79,
   "id": "79959d78",
   "metadata": {},
   "outputs": [
    {
     "name": "stdout",
     "output_type": "stream",
     "text": [
      "Enter a Number : 37\n",
      "37 * 1 = 37\n",
      "37 * 2 = 74\n",
      "37 * 3 = 111\n",
      "37 * 4 = 148\n",
      "37 * 5 = 185\n",
      "37 * 6 = 222\n",
      "37 * 7 = 259\n",
      "37 * 8 = 296\n",
      "37 * 9 = 333\n",
      "37 * 10 = 370\n"
     ]
    }
   ],
   "source": [
    "# Solution :\n",
    "\n",
    "n = int(input(\"Enter a Number : \"))\n",
    "\n",
    "for i in range(1, 11) :\n",
    "    print( n, \"*\", i , \"=\", n*i)\n",
    "\n"
   ]
  },
  {
   "cell_type": "code",
   "execution_count": null,
   "id": "35cfcc83",
   "metadata": {},
   "outputs": [],
   "source": [
    "#L8 E\n",
    "WAP to print the following pattern.\n",
    "\n",
    "1\n",
    "1 2\n",
    "1 2 3\n",
    "1 2 3 4"
   ]
  },
  {
   "cell_type": "code",
   "execution_count": 22,
   "id": "6d95eacc",
   "metadata": {},
   "outputs": [
    {
     "name": "stdout",
     "output_type": "stream",
     "text": [
      "Enter number of rows : 4\n",
      "1  \n",
      "1 2  \n",
      "1 2 3  \n",
      "1 2 3 4  \n"
     ]
    }
   ],
   "source": [
    "rows = int(input(\"Enter number of rows : \"))\n",
    "\n",
    "for i in range(1, rows+1) :\n",
    "    for j in range(1, i+1) :\n",
    "        print(j, end=\" \")\n",
    "    print(\" \")"
   ]
  },
  {
   "cell_type": "code",
   "execution_count": null,
   "id": "8ee9cf3c",
   "metadata": {},
   "outputs": [],
   "source": [
    "#L9 H\n",
    "Write a program to calculate the sum of series up to n terms for a digit d. n & d are taken as input from the user.\n",
    "\n",
    "For example:\n",
    "    Input: n = 5, d = 2\n",
    "    Logic: 2 + 22 + 222 + 2222 + 22222 \n",
    "    Output: 24690"
   ]
  },
  {
   "cell_type": "code",
   "execution_count": 7,
   "id": "e0b62bf2",
   "metadata": {},
   "outputs": [
    {
     "name": "stdout",
     "output_type": "stream",
     "text": [
      "Enter the number of series : 5\n",
      "Enter the digit : 2\n",
      "23456\n"
     ]
    }
   ],
   "source": [
    "# Solution :\n",
    "\n",
    "n = int(input(\"Enter the number of series : \"))\n",
    "\n",
    "\n",
    "sum = 0\n",
    "d = int(input(\"Enter the digit : \"))\n",
    "\n",
    "for i in range(1, n+1) :\n",
    "    sum = sum + d\n",
    "    d = ( d * 10 ) + 1\n",
    "\n",
    "print(sum)"
   ]
  },
  {
   "cell_type": "code",
   "execution_count": null,
   "id": "df134e9d",
   "metadata": {},
   "outputs": [],
   "source": [
    "#L10 M\n",
    "WAP that keeps on accepting numbers from the user until the user enters Zero(0) as input.\n",
    "Display the sum and average of all the numbers.\n",
    "\n",
    "For example:\n",
    "    Input: 3, 6, 8, 2, 5, Stop\n",
    "    Output: Sum = 24\n",
    "            Average = 4.8"
   ]
  },
  {
   "cell_type": "code",
   "execution_count": 15,
   "id": "b67ca492",
   "metadata": {},
   "outputs": [
    {
     "name": "stdout",
     "output_type": "stream",
     "text": [
      "Enter a number : 4\n",
      "Enter a number : 5\n",
      "Enter a number : 6\n",
      "Enter a number : 7\n",
      "Enter a number : 8\n",
      "Enter a number : 0\n",
      "Total sum =  30\n",
      "Average =  5.0\n"
     ]
    }
   ],
   "source": [
    "# Solution :\n",
    "\n",
    "sum = 0\n",
    "avg = 0\n",
    "cnt = 0\n",
    "while True :\n",
    "    a = int(input(\"Enter a number : \"))\n",
    "    sum = sum + a\n",
    "    cnt += 1\n",
    "    avg = sum/cnt\n",
    "    if a == 0 :\n",
    "        break\n",
    "    \n",
    "print(\"Total sum = \", sum)\n",
    "print(\"Average = \", avg)"
   ]
  },
  {
   "cell_type": "code",
   "execution_count": null,
   "id": "1a0a0eb2",
   "metadata": {},
   "outputs": [],
   "source": [
    "#L11 E\n",
    "Accept n numbers from the user and display their average. n is input from the user.\n",
    "\n",
    "For example:\n",
    "    Input: n = 5\n",
    "        Numbers = 3, 6, 2, 9, 0\n",
    "    Output: Average = 4.0"
   ]
  },
  {
   "cell_type": "code",
   "execution_count": 16,
   "id": "7f2041c0",
   "metadata": {},
   "outputs": [
    {
     "name": "stdout",
     "output_type": "stream",
     "text": [
      "Enter a number : 4\n",
      "Enter a number : 6\n",
      "Enter a number : 8\n",
      "Enter a number : 10\n",
      "Enter a number : 12\n",
      "Enter a number : 0\n",
      "Average =  6.666666666666667\n"
     ]
    }
   ],
   "source": [
    "# Solution :\n",
    "\n",
    "sum = 0\n",
    "avg = 0\n",
    "cnt = 0\n",
    "while True :\n",
    "    a = int(input(\"Enter a number : \"))\n",
    "    sum = sum + a\n",
    "    cnt += 1\n",
    "    avg = sum/cnt\n",
    "    if a == 0 :\n",
    "        break\n",
    "    \n",
    "print(\"Average = \", avg)"
   ]
  },
  {
   "cell_type": "code",
   "execution_count": null,
   "id": "6f4c1035",
   "metadata": {},
   "outputs": [],
   "source": []
  },
  {
   "cell_type": "code",
   "execution_count": null,
   "id": "1c94f380",
   "metadata": {},
   "outputs": [],
   "source": []
  },
  {
   "cell_type": "markdown",
   "id": "008fa4c5",
   "metadata": {},
   "source": [
    "### String Questions"
   ]
  },
  {
   "cell_type": "code",
   "execution_count": null,
   "id": "da23474b",
   "metadata": {},
   "outputs": [],
   "source": [
    "#S1 E\n",
    "Write a Python program to count the number of each of the characters (character frequency) \n",
    "   in a string input by the user. Ignore the case.\n",
    "   For example: Input: \"Python is great\"\n",
    "\t\tOutput: P = 1, y = 1, t = 2, and so on..."
   ]
  },
  {
   "cell_type": "code",
   "execution_count": 5,
   "id": "b9a003d7",
   "metadata": {},
   "outputs": [
    {
     "name": "stdout",
     "output_type": "stream",
     "text": [
      "Enter the string : Python is great\n",
      "P = 1\n",
      "y = 1\n",
      "t = 2\n",
      "h = 1\n",
      "o = 1\n",
      "n = 1\n",
      "i = 1\n",
      "s = 1\n",
      "g = 1\n",
      "r = 1\n",
      "e = 1\n",
      "a = 1\n"
     ]
    }
   ],
   "source": [
    "# Solution :\n",
    "\n",
    "Input = input(\"Enter the string : \")\n",
    "\n",
    "count=0\n",
    "\n",
    "for i in range(len(Input)):\n",
    "    count=0\n",
    "    for j in range(len(Input)):\n",
    "        if Input[i] == Input[j]:\n",
    "            count=count+1\n",
    "            \n",
    "    if(Input[i]!=' '):\n",
    "        print(Input[i],\"=\", count)        \n",
    "        Input=Input.replace(Input[i],' ')\n"
   ]
  },
  {
   "cell_type": "code",
   "execution_count": null,
   "id": "f52f2e7b",
   "metadata": {},
   "outputs": [],
   "source": [
    "#S2 M\n",
    "Write a Python program to find the digits which are absent in a given mobile number.\n",
    "\n",
    "   For example: Input : 9354328855\n",
    "                Output: 0167"
   ]
  },
  {
   "cell_type": "code",
   "execution_count": 2,
   "id": "c8262d07",
   "metadata": {},
   "outputs": [
    {
     "name": "stdout",
     "output_type": "stream",
     "text": [
      "Enter Mobile Number : 7870867129\n",
      "345\n"
     ]
    }
   ],
   "source": [
    "mobile = input(\"Enter Mobile Number : \")\n",
    "\n",
    "res = \"\"\n",
    "\n",
    "for i in range(0, 10) :\n",
    "        if str(i) not in mobile :\n",
    "            res = res + str(i)\n",
    "            \n",
    "print(res)\n",
    "            "
   ]
  },
  {
   "cell_type": "code",
   "execution_count": null,
   "id": "29a2256a",
   "metadata": {},
   "outputs": [],
   "source": [
    "#S3 M\n",
    "WAP in python to find average of n numbers taken as input from the user dynamically."
   ]
  },
  {
   "cell_type": "code",
   "execution_count": null,
   "id": "ef005559",
   "metadata": {},
   "outputs": [],
   "source": [
    "#S4 E\n",
    "WAP in python that accepts a hyphen-separated sequence of \n",
    "words as input and prints the words in a hyphen-separated \n",
    "sequence after sorting them alphabetically.\n",
    "\n",
    "For e.g. Input: \"p-y-t-h-o-n\"\n",
    "        Output: ['h', 'n','o', 'p', 't', 'y']"
   ]
  },
  {
   "cell_type": "code",
   "execution_count": 7,
   "id": "ab707ca5",
   "metadata": {},
   "outputs": [
    {
     "name": "stdout",
     "output_type": "stream",
     "text": [
      "['p', 'y', 't', 'h', 'o', 'n']\n",
      "['h', 'n', 'o', 'p', 't', 'y']\n"
     ]
    }
   ],
   "source": [
    "# Solution :\n",
    "\n",
    "Input = \"p-y-t-h-o-n\"\n",
    "    \n",
    "res = Input.split(\"-\")\n",
    "print(res)\n",
    "\n",
    "res.sort()\n",
    "print(res)"
   ]
  },
  {
   "cell_type": "code",
   "execution_count": null,
   "id": "28a909bb",
   "metadata": {},
   "outputs": [],
   "source": [
    "#S5 MH\n",
    "WAP in python to find the number of vowels, consonants, digits, special \n",
    "characters and white space characters in a string input by the user.\n",
    "\n",
    "Example: Input: \"Qwerty@123\"\n",
    "\toutput: v = 1, c = 5, d = 3, w = 0, s = 1"
   ]
  },
  {
   "cell_type": "code",
   "execution_count": 23,
   "id": "09c8cb57",
   "metadata": {},
   "outputs": [
    {
     "name": "stdout",
     "output_type": "stream",
     "text": [
      "Vowels = 1\n",
      "Consonents = 5\n",
      "Digit = 3\n",
      "Spl Chars = 0\n",
      "Spaces = 1\n"
     ]
    }
   ],
   "source": [
    "# Solution :\n",
    "\n",
    "Input = \"Qwerty@123\"\n",
    "v, c, d, w, s = 0,0,0,0,0\n",
    "\n",
    "\n",
    "for ch in Input : \n",
    "    if ch.isalpha() and ch.upper() in \"AEIOU\" :\n",
    "        v += 1\n",
    "    elif ch.isalpha()  :\n",
    "        c += 1\n",
    "    elif ch.isdigit()  : \n",
    "        d += 1\n",
    "    elif not(ch.isalnum()) and not(ch.isspace()) :   \n",
    "        s += 1\n",
    "    else: \n",
    "        w += 1\n",
    "\n",
    "print(\"Vowels =\", v)\n",
    "print(\"Consonents =\", c)\n",
    "print(\"Digit =\", d)\n",
    "print(\"Spl Chars =\", w)\n",
    "print(\"Spaces =\", s)\n",
    "  "
   ]
  },
  {
   "cell_type": "code",
   "execution_count": null,
   "id": "92581ec3",
   "metadata": {},
   "outputs": [],
   "source": [
    "#S6 MH\n",
    "WAP in python to check the strength of the password input by the user based on the following features.\n",
    "    Length minimum of 8 characters  (+1 Strength)\n",
    "    Combination of upper case & lower case characters (+1 Strength)\n",
    "    Combination of alphabets & digits (+1 Strength)\n",
    "    Use of Special Characters (+1 Strength)\n",
    "    \n",
    "Example: Input: \"Qwerty@123\"\n",
    "        Output: Strength = 4"
   ]
  },
  {
   "cell_type": "code",
   "execution_count": 24,
   "id": "5715b970",
   "metadata": {},
   "outputs": [
    {
     "name": "stdout",
     "output_type": "stream",
     "text": [
      "Provide password : Vineet@12345\n",
      "4\n"
     ]
    }
   ],
   "source": [
    "# Solution :\n",
    "\n",
    "password = input(\"Provide password : \")\n",
    "\n",
    "import string\n",
    "splChars = string.punctuation\n",
    "\n",
    "strength1 = 0\n",
    "strength2 = 0\n",
    "strength3 = 0\n",
    "strength4 = 0\n",
    "\n",
    "if len( password ) >= 8 : \n",
    "    strength1 += 1\n",
    "if ( any( p.islower() for p in password ) ) and ( any( p.isupper() for p in password ) ) : \n",
    "    strength2 += 1\n",
    "if ( any( p.isdigit() for p in password ) ) : \n",
    "    strength3 += 1\n",
    "if ( any( p for p in password if p in splChars) ) : \n",
    "    strength4 += 1\n",
    "\n",
    "finalStrength = strength1 + strength2 + strength3 + strength4\n",
    "print(\"Strength of Password =\" finalStrength)"
   ]
  },
  {
   "cell_type": "code",
   "execution_count": null,
   "id": "7b536a4d",
   "metadata": {},
   "outputs": [],
   "source": [
    "#S7 E\n",
    "WAP in python to compare two strings and tell the user if both of those strings are same or not. \n",
    "Ignore their case.\n",
    "\n",
    "Example: Input String1: \"Hello\"\n",
    "\tInput String2: \"hello\"\n",
    "\tOutput: Strings are same"
   ]
  },
  {
   "cell_type": "code",
   "execution_count": 25,
   "id": "96efa9d2",
   "metadata": {},
   "outputs": [
    {
     "name": "stdout",
     "output_type": "stream",
     "text": [
      "Enter a String : Vineet\n",
      "Enter a String : Mohan\n",
      "Strings are not same\n"
     ]
    }
   ],
   "source": [
    "# Solution :\n",
    "\n",
    "a = input('Enter a String : ').strip().lower()\n",
    "b = input('Enter a String : ').strip().lower()\n",
    "\n",
    "if a==b:\n",
    "    print('stirngs are same')\n",
    "else:\n",
    "    print('Strings are not same')\n"
   ]
  },
  {
   "cell_type": "code",
   "execution_count": null,
   "id": "2291e232",
   "metadata": {},
   "outputs": [],
   "source": [
    "#S8 E\n",
    "WAP in python to calculate the number of times a character is repeated in a given string.\n",
    "Take the string and character from the user.\n",
    "\n",
    "Example: Input String: \"Neil Nitin Mukesh\"\n",
    "        Input Character: \"e\"\n",
    "        Output: 2"
   ]
  },
  {
   "cell_type": "code",
   "execution_count": 41,
   "id": "b7d71019",
   "metadata": {},
   "outputs": [
    {
     "name": "stdout",
     "output_type": "stream",
     "text": [
      "Enter a String : Neil Nitin Mukesh\n",
      "Enter char to count : e\n",
      "Number of times e is present :  2\n"
     ]
    }
   ],
   "source": [
    "# Solution :\n",
    "\n",
    "Input = input(\"Enter a String : \").lower().strip()\n",
    "Char = input(\"Enter char to count : \").lower().strip()\n",
    "c = 0\n",
    "\n",
    "for i in range(len(Input)) :\n",
    "    if Input[i] == Char :\n",
    "        c = c + 1\n",
    "\n",
    "print(f\"Number of times {Char} is present : \", c)\n",
    "    "
   ]
  },
  {
   "cell_type": "code",
   "execution_count": null,
   "id": "b642b25b",
   "metadata": {},
   "outputs": [],
   "source": [
    "#S9 E\n",
    "WAP in python which accepts string from the user and displays only those characters/elements which are present at an even index.\n",
    "\n",
    "Example: \n",
    "    Input: \"Python\"\n",
    "    Output: Pto"
   ]
  },
  {
   "cell_type": "code",
   "execution_count": 42,
   "id": "550ec431",
   "metadata": {},
   "outputs": [
    {
     "name": "stdout",
     "output_type": "stream",
     "text": [
      "Enter a String : Python\n",
      "Pto\n"
     ]
    }
   ],
   "source": [
    "# Solution :\n",
    "\n",
    "Input = input(\"Enter a String : \")\n",
    "\n",
    "Output = Input[ : : 2]\n",
    "print(Output)"
   ]
  },
  {
   "cell_type": "code",
   "execution_count": null,
   "id": "82ea35fa",
   "metadata": {},
   "outputs": [],
   "source": [
    "#S10 E\n",
    "WAP in python to capitalize the first letter of the First Name and Surname where whole name is taken as input from the user.\n",
    "\n",
    "Example: Input: \"first last\" or \"FIRST LAST\" or \"first lAst\" i.e. Input can be in any case.\n",
    "        Output: \"First Last\""
   ]
  },
  {
   "cell_type": "code",
   "execution_count": 45,
   "id": "aabe1da2",
   "metadata": {},
   "outputs": [
    {
     "name": "stdout",
     "output_type": "stream",
     "text": [
      "Enter Full Name : vineet kumar\n",
      "Vineet Kumar\n"
     ]
    }
   ],
   "source": [
    "# Solution :\n",
    "\n",
    "Input = input(\"Enter Full Name : \")\n",
    "Input = Input.title()\n",
    "\n",
    "print(Input)"
   ]
  },
  {
   "cell_type": "code",
   "execution_count": null,
   "id": "8ee115d1",
   "metadata": {},
   "outputs": [],
   "source": [
    "#S11 EM\n",
    "Write a Python program that accepts a comma separated sequence of words as input and \n",
    "prints the unique words in sorted form (alphanumerically).\n",
    "\n",
    "\tSample Words : red, white, black, red, green    \n",
    "\tExpected Result : black, green, red, red, white"
   ]
  },
  {
   "cell_type": "code",
   "execution_count": 46,
   "id": "074309f1",
   "metadata": {},
   "outputs": [
    {
     "name": "stdout",
     "output_type": "stream",
     "text": [
      "enter comma seperator accepted seq of words: ram, shyam, aayush, vineet\n",
      " aayush, shyam, vineet,ram\n"
     ]
    }
   ],
   "source": [
    "# Solution :\n",
    "\n",
    "a = input('enter comma seperator accepted seq of words : ')\n",
    "a = a.split(',')\n",
    "\n",
    "b = sorted(a)\n",
    "c=','.join(b)\n",
    "print(c)\n"
   ]
  },
  {
   "cell_type": "code",
   "execution_count": null,
   "id": "09c4d845",
   "metadata": {},
   "outputs": [],
   "source": [
    "#S12 MH\n",
    "Write a Python program to count repeated characters in a string.\n",
    "\n",
    "\tSample string: 'thequickbrownfoxjumpsoverthelazydog'\n",
    "\tExpected output :\n",
    "\t\t\to 4\n",
    "\t\t\te 3\n",
    "\t\t\tu 2\n",
    "\t\t\th 2\n",
    "\t\t\tr 2\n",
    "\t\t\tt 2"
   ]
  },
  {
   "cell_type": "code",
   "execution_count": 47,
   "id": "33602953",
   "metadata": {},
   "outputs": [
    {
     "name": "stdout",
     "output_type": "stream",
     "text": [
      "Enter a string-thequickbrownfoxjumpsoverthewall\n",
      "t = 2\n",
      "h = 2\n",
      "e = 3\n",
      "u = 2\n",
      "r = 2\n",
      "o = 3\n",
      "w = 2\n",
      "l = 2\n"
     ]
    }
   ],
   "source": [
    "# Solution :\n",
    "\n",
    "A = input(\"Enter a string-\")\n",
    "for i in range(len(A)):\n",
    "    B = A[0:i:1]\n",
    "    if str(A[i]) not in B:\n",
    "        if A.count(str(A[i]))>1:\n",
    "            print(f\"{A[i]} = {A.count(str(A[i]))}\")\n"
   ]
  },
  {
   "cell_type": "code",
   "execution_count": null,
   "id": "89321a58",
   "metadata": {},
   "outputs": [],
   "source": []
  },
  {
   "cell_type": "code",
   "execution_count": null,
   "id": "2efa7850",
   "metadata": {},
   "outputs": [],
   "source": []
  },
  {
   "cell_type": "code",
   "execution_count": null,
   "id": "8dfe280e",
   "metadata": {},
   "outputs": [],
   "source": []
  },
  {
   "cell_type": "markdown",
   "id": "82edd234",
   "metadata": {},
   "source": [
    "### List Questions"
   ]
  },
  {
   "cell_type": "code",
   "execution_count": null,
   "id": "d252b62f",
   "metadata": {},
   "outputs": [],
   "source": [
    "#Li1 M\n",
    "WAP to remove empty strings from the list of strings. Take list as input from the user.\n",
    "\n",
    "For example: Input: [\"My\", \"name\", \"\", \"is\", \"\", \"Alankrita\", \"\", \".\"]\n",
    "            Output: [\"My\", \"name\", \"is\", \"Alankrita\", \".\"]"
   ]
  },
  {
   "cell_type": "code",
   "execution_count": 51,
   "id": "50e4298d",
   "metadata": {},
   "outputs": [
    {
     "name": "stdout",
     "output_type": "stream",
     "text": [
      "Please enter a word: My\n",
      "Please enter a word: name\n",
      "Please enter a word: \n",
      "Please enter a word: is\n",
      "Please enter a word: Alankrita\n",
      "Please enter a word: .\n",
      "Please enter a word: \n",
      "['My', 'name', 'is', 'Alankrita', '.']\n"
     ]
    }
   ],
   "source": [
    "# Solution :\n",
    "\n",
    "userList = []\n",
    "num_inputs = 7\n",
    "\n",
    "while num_inputs > 0:\n",
    "    userInput = input(\"Please enter a word: \")\n",
    "    userList.append(userInput)\n",
    "    num_inputs -= 1\n",
    "\n",
    "for i in userList:\n",
    "    if i.isspace() or i == \"\":\n",
    "        userList.remove(i)\n",
    "        \n",
    "print(userList)"
   ]
  },
  {
   "cell_type": "code",
   "execution_count": null,
   "id": "84268579",
   "metadata": {},
   "outputs": [],
   "source": [
    "#Li2 H\n",
    "WAP to make a list of all the characters starting from character 'A' to input charaacter from the user.\n",
    "\n",
    "For e.g. Input: 'H'\n",
    "        Output: [\"A\", \"B\", \"C\", \"D\", \"E\", \"F\", \"G\", \"H\"]"
   ]
  },
  {
   "cell_type": "code",
   "execution_count": 52,
   "id": "e840a658",
   "metadata": {},
   "outputs": [
    {
     "name": "stdout",
     "output_type": "stream",
     "text": [
      "Enter a character- g\n",
      "['A', 'B', 'C', 'D', 'E', 'F', 'G']\n"
     ]
    }
   ],
   "source": [
    "# Solution :\n",
    "\n",
    "A = [\"A\",\"B\",\"C\",\"D\",\"E\",\"F\",\"G\",\"H\",\"I\",\"J\",\"K\",\"L\",\"M\",\"N\",\"O\",\"P\",\"Q\",\"R\",\"S\",\"T\",\"U\",\"V\",\"W\",\"X\",\"Y\",\"Z\"]\n",
    "B = input(\"Enter a character- \")\n",
    "\n",
    "print(A[ : A.index(B.upper().strip())+1]  )"
   ]
  },
  {
   "cell_type": "code",
   "execution_count": null,
   "id": "5203d775",
   "metadata": {},
   "outputs": [],
   "source": [
    "#Li3 H\n",
    "WAP to check if a specific employee e is present in a company or not. Employee names are saved in a list.\n",
    "e is taken as input from the user.\n",
    "\n",
    "For example: empList = [\"Ashwin\", \"Rachit\", \"Sanjana\", \"David\", \"Komal\"]\n",
    "            Input1: \"Komal\"\n",
    "            Output1: \"Employee is present\"\n",
    "            \n",
    "            Input2: \"Nitish\"\n",
    "            Output2: \"Employee is not present\""
   ]
  },
  {
   "cell_type": "code",
   "execution_count": 57,
   "id": "43374aaf",
   "metadata": {},
   "outputs": [
    {
     "name": "stdout",
     "output_type": "stream",
     "text": [
      "Enter employee name : david\n",
      "David is Present\n"
     ]
    }
   ],
   "source": [
    "# Solution :\n",
    "\n",
    "empList = [\"Ashwin\", \"Rachit\", \"Sanjana\", \"David\", \"Komal\"]\n",
    "\n",
    "e = input(\"Enter employee name : \").capitalize().strip()\n",
    "\n",
    "for i in empList :\n",
    "    if e in empList :\n",
    "        print(f\"{e} is Present\")\n",
    "        break\n",
    "    else :\n",
    "        print(f\"{e} is not present\")\n",
    "        break"
   ]
  },
  {
   "cell_type": "code",
   "execution_count": null,
   "id": "c16deaa2",
   "metadata": {},
   "outputs": [],
   "source": [
    "#Li4 M\n",
    "Write a python program to find the maximum and minimum number in a list of 10 elements \n",
    "   (taken as input from the user) and also find the index position of the these numbers.\n",
    "    \n",
    "   For example: Input : [25, 2, 1, 86, 42, 32, 27, 12, 31, 10]\n",
    "\t\tOutput: Max Number: 86, Index of Max Number: 3\n",
    "\t\t\tMin Number: 1, Index of Min Number: 2"
   ]
  },
  {
   "cell_type": "code",
   "execution_count": 58,
   "id": "89afc10b",
   "metadata": {},
   "outputs": [
    {
     "name": "stdout",
     "output_type": "stream",
     "text": [
      "Max number: 86,Index of Max number: 3\n",
      "Min number: 1,Index of Min number: 2\n"
     ]
    }
   ],
   "source": [
    "# Solution :\n",
    "\n",
    "inputList=[25, 2, 1, 86, 42, 32, 27, 12, 31, 10]\n",
    "\n",
    "print(f\"Max number: {max(inputList)},Index of Max number: {inputList.index(max(inputList))}\")\n",
    "print(f\"Min number: {min(inputList)},Index of Min number: {inputList.index(min(inputList))}\")\n"
   ]
  },
  {
   "cell_type": "code",
   "execution_count": null,
   "id": "8d452918",
   "metadata": {},
   "outputs": [],
   "source": [
    "#Li5 M\n",
    "Given two Python lists of same length. Iterate both lists simultaneously such that list1 \n",
    "   should display item in original order and list2 in reverse order.\n",
    "    \n",
    "   For example: Input = list1 = [10, 20, 30, 40]\n",
    "\t\t\tlist2 = [100, 200, 300, 400]\n",
    "            Output: 10 400\n",
    "                    20 300\n",
    "                    30 200\n",
    "                    40 100"
   ]
  },
  {
   "cell_type": "code",
   "execution_count": 59,
   "id": "3794d4b5",
   "metadata": {},
   "outputs": [
    {
     "name": "stdout",
     "output_type": "stream",
     "text": [
      "10   400\n",
      "20   300\n",
      "30   200\n",
      "40   100\n"
     ]
    }
   ],
   "source": [
    "# Solution :\n",
    "\n",
    "list1 = [10, 20, 30, 40]\n",
    "list2 = [100, 200, 300, 400]\n",
    "\n",
    "list2 = list2[ : : -1]\n",
    "for i in range( len(list1)) : \n",
    "    print(list1[i], \" \", list2[i])\n"
   ]
  },
  {
   "cell_type": "code",
   "execution_count": null,
   "id": "898879cf",
   "metadata": {},
   "outputs": [],
   "source": [
    "#Li6 M\n",
    "WAP to concatenate two lists index-wise.\n",
    "    list1 = [\"M\", \"na\", \"i\", \"Ashu\"]\n",
    "    list2 = [\"y\", \"me\", \"s\", \"tosh\"]\n",
    "    Output: ['My', 'name', 'is', 'Ashutosh']"
   ]
  },
  {
   "cell_type": "code",
   "execution_count": 71,
   "id": "31f8f7e3",
   "metadata": {},
   "outputs": [
    {
     "name": "stdout",
     "output_type": "stream",
     "text": [
      "['My', 'name', 'is', 'Ashutosh']\n"
     ]
    }
   ],
   "source": [
    "# Solution :\n",
    "\n",
    "list1 = [\"M\", \"na\", \"i\", \"Ashu\"]\n",
    "list2 = [\"y\", \"me\", \"s\", \"tosh\"]\n",
    "\n",
    "res = [i + j for i, j in zip(list1, list2)]\n",
    "\n",
    "print(res)"
   ]
  },
  {
   "cell_type": "code",
   "execution_count": null,
   "id": "83aa36a7",
   "metadata": {},
   "outputs": [],
   "source": [
    "#Li7 M\n",
    "WAP to remove/delete items from a list while iterating without creating a duplicate list.\n",
    "Take the elements to be deleted from the user in real-time."
   ]
  },
  {
   "cell_type": "code",
   "execution_count": 62,
   "id": "8f4d42fb",
   "metadata": {},
   "outputs": [
    {
     "name": "stdout",
     "output_type": "stream",
     "text": [
      "Enter a space seperated list as input = 0 1 2 3 4 5 6 7 8 9\n",
      "Enter a element to delete from the list = 4\n",
      "['0', '1', '2', '3', '5', '6', '7', '8', '9']\n"
     ]
    }
   ],
   "source": [
    "# Solution :\n",
    "\n",
    "A=str(input(\"Enter a space seperated list as input = \")).split()\n",
    "B=str(input(\"Enter a element to delete from the list = \"))\n",
    "A.remove(str(B))\n",
    "\n",
    "print(A)\n"
   ]
  },
  {
   "cell_type": "code",
   "execution_count": null,
   "id": "20bc0377",
   "metadata": {},
   "outputs": [],
   "source": [
    "#Li8 E\n",
    "WAP to generate a Python list of all the prime numbers between n to m where n & m are taken as input from the user."
   ]
  },
  {
   "cell_type": "code",
   "execution_count": 63,
   "id": "cb3bbc56",
   "metadata": {},
   "outputs": [
    {
     "name": "stdout",
     "output_type": "stream",
     "text": [
      "Enter a Number : 14\n",
      "14 is not a prime\n"
     ]
    }
   ],
   "source": [
    "# Solution :\n",
    "\n",
    "case = True\n",
    "num = int(input(\"Enter a Number : \"))\n",
    "\n",
    "for i in range(2, num) :\n",
    "    if num % i == 0 :\n",
    "        case = False\n",
    "        break\n",
    "    else :\n",
    "        case = True\n",
    "        \n",
    "if case == True :\n",
    "    print( f\"{num} is prime\")\n",
    "else :\n",
    "    print(f\"{num} is not a prime\")"
   ]
  },
  {
   "cell_type": "code",
   "execution_count": null,
   "id": "7e18f3af",
   "metadata": {},
   "outputs": [],
   "source": [
    "#Li9 M\n",
    "WAP to concatenate two lists in the following order:\n",
    "    list1 = [\"Hello \", \"World\"]\n",
    "    list2 = [\"Hi\", \"There\"]\n",
    "    Output: ['Hello Hi', 'Hello There', 'World Hi', 'World There']"
   ]
  },
  {
   "cell_type": "code",
   "execution_count": 72,
   "id": "e36b35bd",
   "metadata": {},
   "outputs": [
    {
     "name": "stdout",
     "output_type": "stream",
     "text": [
      "['Hello Hi', 'WorldThere']\n"
     ]
    }
   ],
   "source": [
    "# Solution :\n",
    "\n",
    "list1 = [\"Hello \", \"World\"]\n",
    "list2 = [\"Hi\", \"There\"]\n",
    "\n",
    "res = [i + j for i, j in zip(list1, list2)]\n",
    "\n",
    "print(res)"
   ]
  },
  {
   "cell_type": "code",
   "execution_count": 6,
   "id": "6bcc3f32",
   "metadata": {},
   "outputs": [
    {
     "name": "stdout",
     "output_type": "stream",
     "text": [
      "Enter the name: Komal\n",
      "27\n"
     ]
    }
   ],
   "source": [
    "# Li10 M\n",
    "Given two lists having names of students and their corresponding marks.\n",
    "names = [\"Ashutosh\", \"Ajay\", \"Alankrita\", \"Rachit\", \"Komal\", \"Anil\"]\n",
    "marks = [23, 21, 26, 23, 27, 24]\n",
    "Take name of a student as input from the user and output his/her marks.\n",
    "\n",
    "For e.g.:\n",
    "    Input1: \"Alankrita\"\n",
    "    Output1: 26\n",
    "        \n",
    "    Input2: \"Someone\"\n",
    "    Output2: \"Student not found\""
   ]
  },
  {
   "cell_type": "code",
   "execution_count": 65,
   "id": "3474c1ce",
   "metadata": {},
   "outputs": [
    {
     "name": "stdout",
     "output_type": "stream",
     "text": [
      "Enter the name of the student : ajay\n",
      "21\n"
     ]
    }
   ],
   "source": [
    "# Solution : \n",
    "\n",
    "names = [\"Ashutosh\", \"Ajay\", \"Alankrita\", \"Rachit\", \"Komal\", \"Anil\"]\n",
    "marks = [23, 21, 26, 23, 27, 24]\n",
    "\n",
    "Name = input(\"Enter the name of the student : \").capitalize().strip()\n",
    "\n",
    "if Name in names :\n",
    "    x = names.index(Name)\n",
    "    y = marks[x]\n",
    "    \n",
    "    print(y)\n",
    "else :\n",
    "    print(\"Student not found\")\n"
   ]
  },
  {
   "cell_type": "code",
   "execution_count": null,
   "id": "cf53e6ad",
   "metadata": {},
   "outputs": [],
   "source": [
    "#Li11 H\n",
    "Extended question of #Li10\n",
    "Add an option to change marks of any students in the same code of #Li10. Take student name and new marks from the user. \n",
    "Print the modified list as output.\n",
    "\n",
    "For e.g.: Input: \"Ajay\"\n",
    "        new_mark: 25\n",
    "        Output: marks = [23, 25, 26, 23, 27, 24]"
   ]
  },
  {
   "cell_type": "code",
   "execution_count": 66,
   "id": "980ca5cf",
   "metadata": {},
   "outputs": [
    {
     "name": "stdout",
     "output_type": "stream",
     "text": [
      "enter name: anil\n",
      "enter marks: 58\n",
      "[23, 21, 26, 23, 27, 58]\n"
     ]
    }
   ],
   "source": [
    "# Solition :\n",
    "\n",
    "names = [\"Ashutosh\", \"Ajay\", \"Alankrita\", \"Rachit\", \"Komal\", \"Anil\"]\n",
    "marks = [23, 21, 26, 23, 27, 24]\n",
    "\n",
    "student=input('enter name: ').strip().title()\n",
    "\n",
    "new_marks=int(input('enter marks: '))\n",
    "\n",
    "if student in names:\n",
    "    r=names.index(student)\n",
    "    marks[r]=new_marks\n",
    "else:\n",
    "    pass;\n",
    "print(marks)\n"
   ]
  },
  {
   "cell_type": "code",
   "execution_count": null,
   "id": "48357232",
   "metadata": {},
   "outputs": [],
   "source": [
    "#Li12 H\n",
    "Extended question of #Li10\n",
    "Give an option to enter the marks of a new student into the existing lists names and marks. Take new data as input from user.\n",
    "Print the new names and marks list as output.\n",
    "\n",
    "For e.g.: Input: New_name = \"Nitish\"\n",
    "                new_Marks = 20\n",
    "        Output: names = [\"Ashutosh\", \"Ajay\", \"Alankrita\", \"Rachit\", \"Komal\", \"Anil\", \"Nitish\"]\n",
    "                marks = [23, 21, 26, 23, 27, 24, 20]"
   ]
  },
  {
   "cell_type": "code",
   "execution_count": 70,
   "id": "ecfd6d99",
   "metadata": {},
   "outputs": [
    {
     "name": "stdout",
     "output_type": "stream",
     "text": [
      "Enter name : vineet\n",
      "Enter marks : 60\n",
      "Names :  ['Ashutosh', 'Ajay', 'Alankrita', 'Rachit', 'Komal', 'Anil', 'Vineet']\n",
      "Marks :  [23, 21, 26, 23, 27, 24, 60]\n"
     ]
    }
   ],
   "source": [
    "# Solution :\n",
    "\n",
    "names = [\"Ashutosh\", \"Ajay\", \"Alankrita\", \"Rachit\", \"Komal\", \"Anil\"]\n",
    "marks = [23, 21, 26, 23, 27, 24]\n",
    "\n",
    "N = input(\"Enter name : \").title().strip()\n",
    "M = int(input(\"Enter marks : \"))\n",
    "\n",
    "names.append(N)\n",
    "marks.append(M)\n",
    "\n",
    "print(\"Names : \", names)\n",
    "print(\"Marks : \", marks)"
   ]
  },
  {
   "cell_type": "code",
   "execution_count": null,
   "id": "8b8009f1",
   "metadata": {},
   "outputs": [],
   "source": []
  },
  {
   "cell_type": "code",
   "execution_count": null,
   "id": "396c152f",
   "metadata": {},
   "outputs": [],
   "source": []
  },
  {
   "cell_type": "markdown",
   "id": "bb65c4e0",
   "metadata": {},
   "source": [
    "### Dictionary Questions"
   ]
  },
  {
   "cell_type": "code",
   "execution_count": null,
   "id": "e3673570",
   "metadata": {},
   "outputs": [],
   "source": [
    "#D1\n",
    "WAP in Python to merge following dictionaries to create a new one:\n",
    "\tdic1={1:10, 2:20}\n",
    "\tdic2={3:30, 4:40}\n",
    "\tdic3={5:50, 6:60}"
   ]
  },
  {
   "cell_type": "code",
   "execution_count": 39,
   "id": "fb98224b",
   "metadata": {},
   "outputs": [
    {
     "name": "stdout",
     "output_type": "stream",
     "text": [
      "New Dictionary =  {1: 10, 2: 20, 3: 30, 4: 40, 5: 50, 6: 60}\n"
     ]
    }
   ],
   "source": [
    "# Solution :\n",
    "\n",
    "dic1={1:10, 2:20}\n",
    "dic2={3:30, 4:40}\n",
    "dic3={5:50, 6:60}\n",
    "\n",
    "finaldict = {}\n",
    "finaldict.update(dic1)\n",
    "finaldict.update(dic2)\n",
    "finaldict.update(dic3)\n",
    "\n",
    "print(\"New Dictionary = \", finaldict)\n"
   ]
  },
  {
   "cell_type": "code",
   "execution_count": null,
   "id": "545a9452",
   "metadata": {},
   "outputs": [],
   "source": [
    "#D2\n",
    "WAP in python to generate and print a dictionary that contains a number (between 1 and n) \n",
    "in the form {x : x*x} where n is the input from the user.\n",
    "\n",
    "For e.g. Input: 4\n",
    "        Output: {1:1, 2:4, 3:9, 4:16}"
   ]
  },
  {
   "cell_type": "code",
   "execution_count": 42,
   "id": "86a95acf",
   "metadata": {},
   "outputs": [
    {
     "name": "stdout",
     "output_type": "stream",
     "text": [
      "Enter a number : 5\n",
      "{1: 1, 2: 4, 3: 9, 4: 16}\n"
     ]
    }
   ],
   "source": [
    "# Solution :\n",
    "\n",
    "x = 1\n",
    "n = int(input(\"Enter a number : \"))\n",
    "dic = {}\n",
    "\n",
    "for i in range(1, n)  :\n",
    "    dic1 = {x*i : (x*i)*i}\n",
    "    dic.update(dic1)\n",
    "    \n",
    "print(dic)\n",
    "    \n",
    "    \n",
    "    "
   ]
  },
  {
   "cell_type": "code",
   "execution_count": null,
   "id": "e2c39de8",
   "metadata": {},
   "outputs": [],
   "source": [
    "#D3\n",
    "WAP in python to find the number of vowels, consonants, digits, white space characters & \n",
    "special characters in a string and save the result in the form of a dictionary."
   ]
  },
  {
   "cell_type": "code",
   "execution_count": 50,
   "id": "8ed1e8a3",
   "metadata": {},
   "outputs": [
    {
     "name": "stdout",
     "output_type": "stream",
     "text": [
      "Enter a string : My password is Vineet@123$%*\n",
      "Result =  {'Vowels': 6, 'Consonants': 12, 'Digits': 3, 'Spaces': 3, 'Symbols': 4}\n"
     ]
    }
   ],
   "source": [
    "# Solution :\n",
    "\n",
    "Input = input(\"Enter a string : \")\n",
    "v, c, d, w, s = 0,0,0,0,0\n",
    "\n",
    "\n",
    "for ch in Input : \n",
    "    if ch.isalpha() and ch.upper() in \"AEIOU\" :\n",
    "        v += 1\n",
    "    elif ch.isalpha()  :\n",
    "        c += 1\n",
    "    elif ch.isdigit()  : \n",
    "        d += 1\n",
    "    elif not(ch.isalnum()) and not(ch.isspace()) :   \n",
    "        s += 1\n",
    "    else: \n",
    "        w += 1\n",
    "\n",
    "list1 = [\"Vowels\", \"Consonants\", \"Digits\", \"Spaces\", \"Symbols\"]\n",
    "list2 = [ v, c, d, w, s]\n",
    "\n",
    "Dict = dict(zip(list1 , list2))\n",
    "print(\"Result = \", Dict)"
   ]
  },
  {
   "cell_type": "code",
   "execution_count": null,
   "id": "69862d06",
   "metadata": {},
   "outputs": [],
   "source": [
    "#D4\n",
    "WAP to reverse map the dictionary items. Take dictionary as input from the user.\n",
    "\n",
    "\tFor eg., Input: d = {'A': 65, 'B': 66, 'C': 67, 'D': 68}\n",
    "            Output: d = {65: 'A', 66: 'B', 67: 'C', 68: 'D'}"
   ]
  },
  {
   "cell_type": "code",
   "execution_count": 71,
   "id": "04acb8aa",
   "metadata": {},
   "outputs": [
    {
     "name": "stdout",
     "output_type": "stream",
     "text": [
      "enter a number of elements in the dict: 5\n",
      "Enter key :A\n",
      "Enter values :65\n",
      "Enter key :B\n",
      "Enter values :66\n",
      "Enter key :C\n",
      "Enter values :67\n",
      "Enter key :D\n",
      "Enter values :68\n",
      "Enter key :E\n",
      "Enter values :69\n",
      "Input dictionary is :  {'A': 65, 'B': 66, 'C': 67, 'D': 68, 'E': 69}\n",
      "Desired dictionary is :  {65: 'A', 66: 'B', 67: 'C', 68: 'D', 69: 'E'}\n"
     ]
    }
   ],
   "source": [
    "# Solution :\n",
    "\n",
    "n = int(input(\"enter a number of elements in the dict: \"))\n",
    "Dict = {}\n",
    "for i in range (n):\n",
    "    key = input(\"Enter key :\")\n",
    "    value = int(input(\"Enter values :\"))\n",
    "    Dict.update({key: value})\n",
    "\n",
    "print(\"Input dictionary is : \", Dict)\n",
    "\n",
    "Reverse = dict(zip(Dict.values() , Dict.keys() ))\n",
    "print(\"Desired dictionary is : \", Reverse)"
   ]
  },
  {
   "cell_type": "code",
   "execution_count": null,
   "id": "11982997",
   "metadata": {},
   "outputs": [],
   "source": [
    "#D5\n",
    "WAP to save Username and Password of 10 employees in an organisation. \n",
    "Take the Username and Password as input from the user one by one and save in the Dictionary."
   ]
  },
  {
   "cell_type": "code",
   "execution_count": 76,
   "id": "63dd18b7",
   "metadata": {},
   "outputs": [
    {
     "name": "stdout",
     "output_type": "stream",
     "text": [
      "Username : vineet\n",
      "Password : v@123\n",
      "Username : ram\n",
      "Password : r@1232\n",
      "Username : sita\n",
      "Password : s@123\n",
      "Username : mohan\n",
      "Password : m@123\n",
      "Username : sohan\n",
      "Password : so@123\n",
      "Username : aman\n",
      "Password : A@123\n",
      "Username : vivek\n",
      "Password : Vk@123\n",
      "Username : prabhat\n",
      "Password : pk@123\n",
      "Username : krishna\n",
      "Password : k@123\n",
      "Username : ravan\n",
      "Password : rav@123\n",
      "{'Vineet': 'v@123', 'Ram': 'r@1232', 'Sita': 's@123', 'Mohan': 'm@123', 'Sohan': 'so@123', 'Aman': 'A@123', 'Vivek': 'Vk@123', 'Prabhat': 'pk@123', 'Krishna': 'k@123', 'Ravan': 'rav@123'}\n"
     ]
    }
   ],
   "source": [
    "# Solution :\n",
    "\n",
    "Dict = {}\n",
    "for i in range(10) :\n",
    "    key = input(\"Username : \").capitalize().strip()\n",
    "    value = input(\"Password : \")\n",
    "    Dict.update({key : value})\n",
    "    \n",
    "print(Dict)"
   ]
  },
  {
   "cell_type": "code",
   "execution_count": null,
   "id": "141fab70",
   "metadata": {},
   "outputs": [],
   "source": [
    "#D6\n",
    "Extended Question from #D5\n",
    "Write an additional functionality to check if an employee is present in the organisation or not.\n",
    "Basically \"Search\" Functionality based on their username\n",
    "Take employee name as input from the user.\n",
    "If the employee is present, print \"Present\" else print \"Not Present\""
   ]
  },
  {
   "cell_type": "code",
   "execution_count": 77,
   "id": "31c933f1",
   "metadata": {},
   "outputs": [
    {
     "name": "stdout",
     "output_type": "stream",
     "text": [
      "Enter Username : ravan\n",
      "Present\n"
     ]
    }
   ],
   "source": [
    "# Solution :\n",
    "\n",
    "for k in Dict :\n",
    "    key = input(\"Enter Username : \").capitalize().strip()\n",
    "    if key in Dict :\n",
    "        print(\"Present\")\n",
    "        break\n",
    "    \n",
    "    else :\n",
    "        print(\"Not Present\")\n",
    "        break\n",
    "              "
   ]
  },
  {
   "cell_type": "markdown",
   "id": "9293e632",
   "metadata": {},
   "source": [
    "### Misc. Questions - i.e. you can use any data type which seems feasible for question"
   ]
  },
  {
   "cell_type": "code",
   "execution_count": null,
   "id": "3e893c42",
   "metadata": {},
   "outputs": [],
   "source": [
    "#M1\n",
    "WAP in python that accepts two integers (n) & (m) from user and \n",
    "computes the value of 2n3 + 5m2 - 7n + 10"
   ]
  },
  {
   "cell_type": "code",
   "execution_count": 82,
   "id": "8390b97d",
   "metadata": {},
   "outputs": [
    {
     "name": "stdout",
     "output_type": "stream",
     "text": [
      "Enter the value of n : 5\n",
      "Enter the value of m : 4\n",
      "305\n"
     ]
    }
   ],
   "source": [
    "# Solution :\n",
    "\n",
    "n = int(input(\"Enter the value of n : \"))\n",
    "m = int(input(\"Enter the value of m : \"))\n",
    "\n",
    "Equation = 2*n**3 + 5*m**2 - 7*n + 10\n",
    "\n",
    "print(Equation)"
   ]
  },
  {
   "cell_type": "code",
   "execution_count": null,
   "id": "42a8e96a",
   "metadata": {},
   "outputs": [],
   "source": [
    "#M2\n",
    "Write a python program to find the intersection of elements from two list \n",
    "(find the common elements in two lists)."
   ]
  },
  {
   "cell_type": "code",
   "execution_count": 87,
   "id": "9d0e1e34",
   "metadata": {},
   "outputs": [
    {
     "name": "stdout",
     "output_type": "stream",
     "text": [
      "['Sita', 100, 125]\n"
     ]
    }
   ],
   "source": [
    "# Solution :\n",
    "\n",
    "List1 = [\"Ram\", 125, 80, \"Sita\", 100, 150]\n",
    "List2 = [\"Sita\", 100, 75, \"Mohan\", 125, 90]\n",
    "\n",
    "def intersection(List1, List2) :\n",
    "    return list(set(List1) & set(List2))\n",
    "\n",
    "print(intersection(List1, List2))"
   ]
  },
  {
   "cell_type": "code",
   "execution_count": null,
   "id": "730f0c1b",
   "metadata": {},
   "outputs": [],
   "source": [
    "#M3\n",
    "WAP in Python to find the Max of n numbers all taken as input from the user."
   ]
  },
  {
   "cell_type": "code",
   "execution_count": 90,
   "id": "0c951a6e",
   "metadata": {},
   "outputs": [
    {
     "name": "stdout",
     "output_type": "stream",
     "text": [
      "Enter the number of Elements : 5\n",
      "Enter number : 45\n",
      "Enter number : 12\n",
      "Enter number : 65\n",
      "Enter number : 56\n",
      "Enter number : 23\n",
      "Max of all numbers =  65\n"
     ]
    }
   ],
   "source": [
    "# Solution :\n",
    "\n",
    "n = int(input(\"Enter the number of Elements : \"))\n",
    "List = []\n",
    "\n",
    "for i in range(n) :\n",
    "    number = int(input(\"Enter number : \"))\n",
    "    List.append(number)\n",
    "    \n",
    "print(\"Max of all numbers = \", max(List))"
   ]
  },
  {
   "cell_type": "code",
   "execution_count": null,
   "id": "4f2b9e79",
   "metadata": {},
   "outputs": [],
   "source": [
    "#M4\n",
    "WAP which takes a sequence of numbers from the user and check if all input numbers are unique."
   ]
  },
  {
   "cell_type": "code",
   "execution_count": 96,
   "id": "3f006129",
   "metadata": {},
   "outputs": [
    {
     "name": "stdout",
     "output_type": "stream",
     "text": [
      "Enter the number of elements : 5\n",
      "Enter number : 1\n",
      "Enter number : 1\n",
      "Number is already present\n",
      "All numbers are unique\n"
     ]
    }
   ],
   "source": [
    "# Solution :\n",
    "\n",
    "n = int(input(\"Enter the number of elements : \"))\n",
    "List1 = []\n",
    "\n",
    "for i in range(n) :\n",
    "    num = int(input(\"Enter number : \"))\n",
    "    List1.append(num)\n",
    "    if num == i :\n",
    "        print(\"Number is already present\")\n",
    "        break\n",
    "    \n",
    "print(\"All numbers are unique\")\n",
    "        "
   ]
  },
  {
   "cell_type": "code",
   "execution_count": null,
   "id": "da6df94a",
   "metadata": {},
   "outputs": [],
   "source": [
    "#M5\n",
    "WAP to reverse a given integer number.\n",
    "Example: Input: 105320\n",
    "        Output: 023501"
   ]
  },
  {
   "cell_type": "code",
   "execution_count": 104,
   "id": "38f54633",
   "metadata": {},
   "outputs": [
    {
     "name": "stdout",
     "output_type": "stream",
     "text": [
      "Enter Numbers : 12345\n",
      "Reverse of Input =  54321\n"
     ]
    }
   ],
   "source": [
    "# Solution :\n",
    "\n",
    "Num = int(input(\"Enter Numbers : \"))\n",
    "Reverse = str(Num)[ : : -1]\n",
    "Reverse = int(Reverse)\n",
    "\n",
    "print(\"Reverse of Input = \", Reverse)"
   ]
  },
  {
   "cell_type": "code",
   "execution_count": null,
   "id": "45168e11",
   "metadata": {},
   "outputs": [],
   "source": [
    "#M6\n",
    "WAP to take 10 integer inputs from the user and save them in a list. \n",
    "The inputs have to be mix of even and odd numbers. \n",
    "Now make one list to save all the even numbers from the input list. \n",
    "Make another list for odd numbers too."
   ]
  },
  {
   "cell_type": "code",
   "execution_count": 98,
   "id": "9f6ab026",
   "metadata": {},
   "outputs": [
    {
     "name": "stdout",
     "output_type": "stream",
     "text": [
      "Enter number : 1\n",
      "Enter number : 2\n",
      "Enter number : 3\n",
      "Enter number : 4\n",
      "Enter number : 5\n",
      "Enter number : 6\n",
      "Enter number : 7\n",
      "Enter number : 8\n",
      "Enter number : 9\n",
      "Enter number : 10\n",
      "Even numbers list :  [1, 3, 5, 7, 9]\n",
      "Odd numbers list :  [2, 4, 6, 8, 10]\n"
     ]
    }
   ],
   "source": [
    "# Solution :\n",
    "\n",
    "List = []\n",
    "List1 = []\n",
    "List2 = []\n",
    "for i in range(10) :\n",
    "    Num = int(input(\"Enter number : \"))\n",
    "    List.append(Num)\n",
    "    if i %2 == 0 :\n",
    "        List1.append(Num)\n",
    "    else :\n",
    "        List2.append(Num)\n",
    "\n",
    "print(\"Even numbers list : \", List1)\n",
    "print(\"Odd numbers list : \", List2)\n",
    "        "
   ]
  },
  {
   "cell_type": "code",
   "execution_count": null,
   "id": "df5d0b49",
   "metadata": {},
   "outputs": [],
   "source": [
    "#M7\n",
    "WAP to convert temperature in Fahrenheit to Celsius. Take the temperature from the user in float type."
   ]
  },
  {
   "cell_type": "code",
   "execution_count": 101,
   "id": "c5f17600",
   "metadata": {},
   "outputs": [
    {
     "name": "stdout",
     "output_type": "stream",
     "text": [
      "Enter Temp in Fahrenheit = 98\n",
      "Temperature in Celsius =  36.669599999999996\n"
     ]
    }
   ],
   "source": [
    "# Solution :\n",
    "\n",
    "Input = float(input(\"Enter Temp in Fahrenheit = \"))\n",
    "Output = (Input-32)*0.5556\n",
    "\n",
    "print(\"Temperature in Celsius = \", Output)"
   ]
  },
  {
   "cell_type": "code",
   "execution_count": null,
   "id": "46f31cbd",
   "metadata": {},
   "outputs": [],
   "source": [
    "#M8\n",
    "WAP to continuously take Names as input from the user. \n",
    "Save the incoming names into a list as Full Name and save {First Name:Second Name} in a dictionary.\n",
    "Take inputs till the user enters \"Stop\"\n",
    "\n",
    "For e.g.: Input: \"Shahrukh Khan\", \"Gauri Khan\",...................\"Stop\"\n",
    "         Output: list1 = [\"Shahrukh Khan\", \"Gauri Khan\",....................]\n",
    "                dict1 = {\"Shahrukh\":\"Khan\", \"Gauri\":\"Khan\", .....................}"
   ]
  },
  {
   "cell_type": "code",
   "execution_count": 103,
   "id": "ff09ca09",
   "metadata": {},
   "outputs": [
    {
     "name": "stdout",
     "output_type": "stream",
     "text": [
      "Enter Full Name : Akshay Kumar\n",
      "Enter Full Name : Sunil Shetty\n",
      "Enter Full Name : Varun Dhawan\n",
      "Enter Full Name : Rohit Sharma\n",
      "Enter Full Name : MS Dhoni\n",
      "Enter Full Name : Virat Kohli\n",
      "Enter Full Name : stop\n",
      "list =  ['Akshay Kumar', 'Sunil Shetty', 'Varun Dhawan', 'Rohit Sharma', 'MS Dhoni', 'Virat Kohli']\n",
      "dict =  {\"['Akshay\": \"Kumar',\", \"'Sunil\": \"Shetty',\", \"'Varun\": \"Dhawan',\", \"'Rohit\": \"Sharma',\", \"'MS\": \"Dhoni',\", \"'Virat\": \"Kohli']\"}\n"
     ]
    }
   ],
   "source": [
    "# Solution :\n",
    "\n",
    "List = []\n",
    "while True :\n",
    "    Input = input(\"Enter Full Name : \")\n",
    "    List.append(Input)\n",
    "    if Input == \"stop\" :\n",
    "        break\n",
    "        \n",
    "List.remove(\"stop\")\n",
    "print(\"list = \", List)\n",
    "\n",
    "a = str(List)\n",
    "A = a.split()[ : : 2]\n",
    "B = a.split()[1: : 2]\n",
    "Dict = dict(zip(A , B))\n",
    "\n",
    "print(\"dict = \", Dict)"
   ]
  },
  {
   "cell_type": "code",
   "execution_count": null,
   "id": "d7873eb7",
   "metadata": {},
   "outputs": [],
   "source": [
    "#M9\n",
    "WAP to make a simple and compound interest calculator. Take all the necessary data as input from the user."
   ]
  },
  {
   "cell_type": "code",
   "execution_count": null,
   "id": "9962c59f",
   "metadata": {},
   "outputs": [],
   "source": [
    " "
   ]
  },
  {
   "cell_type": "code",
   "execution_count": null,
   "id": "f0923317",
   "metadata": {},
   "outputs": [],
   "source": [
    "#M10\n"
   ]
  },
  {
   "cell_type": "code",
   "execution_count": null,
   "id": "3d782e2c",
   "metadata": {},
   "outputs": [],
   "source": []
  },
  {
   "cell_type": "code",
   "execution_count": null,
   "id": "b4de296d",
   "metadata": {},
   "outputs": [],
   "source": []
  },
  {
   "cell_type": "code",
   "execution_count": null,
   "id": "85f56464",
   "metadata": {},
   "outputs": [],
   "source": []
  }
 ],
 "metadata": {
  "kernelspec": {
   "display_name": "Python 3 (ipykernel)",
   "language": "python",
   "name": "python3"
  },
  "language_info": {
   "codemirror_mode": {
    "name": "ipython",
    "version": 3
   },
   "file_extension": ".py",
   "mimetype": "text/x-python",
   "name": "python",
   "nbconvert_exporter": "python",
   "pygments_lexer": "ipython3",
   "version": "3.9.13"
  }
 },
 "nbformat": 4,
 "nbformat_minor": 5
}
