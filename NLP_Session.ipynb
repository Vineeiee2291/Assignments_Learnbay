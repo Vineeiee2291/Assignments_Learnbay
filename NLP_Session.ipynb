{
  "nbformat": 4,
  "nbformat_minor": 0,
  "metadata": {
    "colab": {
      "provenance": [],
      "gpuType": "T4",
      "mount_file_id": "1EOQWR5GzLyupk9U8w7p3bqv4Z5TFyaTt",
      "authorship_tag": "ABX9TyOayUCrBe1ELTZeBcPBSvzb",
      "include_colab_link": true
    },
    "kernelspec": {
      "name": "python3",
      "display_name": "Python 3"
    },
    "language_info": {
      "name": "python"
    },
    "accelerator": "GPU"
  },
  "cells": [
    {
      "cell_type": "markdown",
      "metadata": {
        "id": "view-in-github",
        "colab_type": "text"
      },
      "source": [
        "<a href=\"https://colab.research.google.com/github/Vineeiee2291/Assignments_Learnbay/blob/master/NLP_Session.ipynb\" target=\"_parent\"><img src=\"https://colab.research.google.com/assets/colab-badge.svg\" alt=\"Open In Colab\"/></a>"
      ]
    },
    {
      "cell_type": "code",
      "execution_count": null,
      "metadata": {
        "id": "tBmvXry65nBw"
      },
      "outputs": [],
      "source": []
    },
    {
      "cell_type": "code",
      "source": [
        "from google.colab import drive\n",
        "drive.mount('/content/drive')"
      ],
      "metadata": {
        "id": "71KoVN-A7x9A"
      },
      "execution_count": null,
      "outputs": []
    },
    {
      "cell_type": "code",
      "source": [
        "!pip install spacy"
      ],
      "metadata": {
        "colab": {
          "base_uri": "https://localhost:8080/"
        },
        "id": "Rjk1acIt81Jv",
        "outputId": "ef63bee4-dce9-4c17-c044-a5179dcfaf56"
      },
      "execution_count": 1,
      "outputs": [
        {
          "output_type": "stream",
          "name": "stdout",
          "text": [
            "Requirement already satisfied: spacy in /usr/local/lib/python3.10/dist-packages (3.5.4)\n",
            "Requirement already satisfied: spacy-legacy<3.1.0,>=3.0.11 in /usr/local/lib/python3.10/dist-packages (from spacy) (3.0.12)\n",
            "Requirement already satisfied: spacy-loggers<2.0.0,>=1.0.0 in /usr/local/lib/python3.10/dist-packages (from spacy) (1.0.4)\n",
            "Requirement already satisfied: murmurhash<1.1.0,>=0.28.0 in /usr/local/lib/python3.10/dist-packages (from spacy) (1.0.9)\n",
            "Requirement already satisfied: cymem<2.1.0,>=2.0.2 in /usr/local/lib/python3.10/dist-packages (from spacy) (2.0.7)\n",
            "Requirement already satisfied: preshed<3.1.0,>=3.0.2 in /usr/local/lib/python3.10/dist-packages (from spacy) (3.0.8)\n",
            "Requirement already satisfied: thinc<8.2.0,>=8.1.8 in /usr/local/lib/python3.10/dist-packages (from spacy) (8.1.10)\n",
            "Requirement already satisfied: wasabi<1.2.0,>=0.9.1 in /usr/local/lib/python3.10/dist-packages (from spacy) (1.1.2)\n",
            "Requirement already satisfied: srsly<3.0.0,>=2.4.3 in /usr/local/lib/python3.10/dist-packages (from spacy) (2.4.7)\n",
            "Requirement already satisfied: catalogue<2.1.0,>=2.0.6 in /usr/local/lib/python3.10/dist-packages (from spacy) (2.0.8)\n",
            "Requirement already satisfied: typer<0.10.0,>=0.3.0 in /usr/local/lib/python3.10/dist-packages (from spacy) (0.9.0)\n",
            "Requirement already satisfied: pathy>=0.10.0 in /usr/local/lib/python3.10/dist-packages (from spacy) (0.10.2)\n",
            "Requirement already satisfied: smart-open<7.0.0,>=5.2.1 in /usr/local/lib/python3.10/dist-packages (from spacy) (6.3.0)\n",
            "Requirement already satisfied: tqdm<5.0.0,>=4.38.0 in /usr/local/lib/python3.10/dist-packages (from spacy) (4.65.0)\n",
            "Requirement already satisfied: numpy>=1.15.0 in /usr/local/lib/python3.10/dist-packages (from spacy) (1.22.4)\n",
            "Requirement already satisfied: requests<3.0.0,>=2.13.0 in /usr/local/lib/python3.10/dist-packages (from spacy) (2.27.1)\n",
            "Requirement already satisfied: pydantic!=1.8,!=1.8.1,<1.11.0,>=1.7.4 in /usr/local/lib/python3.10/dist-packages (from spacy) (1.10.11)\n",
            "Requirement already satisfied: jinja2 in /usr/local/lib/python3.10/dist-packages (from spacy) (3.1.2)\n",
            "Requirement already satisfied: setuptools in /usr/local/lib/python3.10/dist-packages (from spacy) (67.7.2)\n",
            "Requirement already satisfied: packaging>=20.0 in /usr/local/lib/python3.10/dist-packages (from spacy) (23.1)\n",
            "Requirement already satisfied: langcodes<4.0.0,>=3.2.0 in /usr/local/lib/python3.10/dist-packages (from spacy) (3.3.0)\n",
            "Requirement already satisfied: typing-extensions>=4.2.0 in /usr/local/lib/python3.10/dist-packages (from pydantic!=1.8,!=1.8.1,<1.11.0,>=1.7.4->spacy) (4.7.1)\n",
            "Requirement already satisfied: urllib3<1.27,>=1.21.1 in /usr/local/lib/python3.10/dist-packages (from requests<3.0.0,>=2.13.0->spacy) (1.26.16)\n",
            "Requirement already satisfied: certifi>=2017.4.17 in /usr/local/lib/python3.10/dist-packages (from requests<3.0.0,>=2.13.0->spacy) (2023.5.7)\n",
            "Requirement already satisfied: charset-normalizer~=2.0.0 in /usr/local/lib/python3.10/dist-packages (from requests<3.0.0,>=2.13.0->spacy) (2.0.12)\n",
            "Requirement already satisfied: idna<4,>=2.5 in /usr/local/lib/python3.10/dist-packages (from requests<3.0.0,>=2.13.0->spacy) (3.4)\n",
            "Requirement already satisfied: blis<0.8.0,>=0.7.8 in /usr/local/lib/python3.10/dist-packages (from thinc<8.2.0,>=8.1.8->spacy) (0.7.9)\n",
            "Requirement already satisfied: confection<1.0.0,>=0.0.1 in /usr/local/lib/python3.10/dist-packages (from thinc<8.2.0,>=8.1.8->spacy) (0.1.0)\n",
            "Requirement already satisfied: click<9.0.0,>=7.1.1 in /usr/local/lib/python3.10/dist-packages (from typer<0.10.0,>=0.3.0->spacy) (8.1.6)\n",
            "Requirement already satisfied: MarkupSafe>=2.0 in /usr/local/lib/python3.10/dist-packages (from jinja2->spacy) (2.1.3)\n"
          ]
        }
      ]
    },
    {
      "cell_type": "code",
      "source": [
        "#download the model\n",
        "\n",
        "!python -m spacy download en_core_web_sm"
      ],
      "metadata": {
        "colab": {
          "base_uri": "https://localhost:8080/"
        },
        "id": "b44bAVwK86W2",
        "outputId": "dd3d6f0c-e074-4752-be61-c6edfaff2aee"
      },
      "execution_count": 2,
      "outputs": [
        {
          "output_type": "stream",
          "name": "stdout",
          "text": [
            "2023-07-26 16:09:03.046944: I tensorflow/core/platform/cpu_feature_guard.cc:182] This TensorFlow binary is optimized to use available CPU instructions in performance-critical operations.\n",
            "To enable the following instructions: AVX2 FMA, in other operations, rebuild TensorFlow with the appropriate compiler flags.\n",
            "2023-07-26 16:09:04.533782: W tensorflow/compiler/tf2tensorrt/utils/py_utils.cc:38] TF-TRT Warning: Could not find TensorRT\n",
            "2023-07-26 16:09:05.977463: I tensorflow/compiler/xla/stream_executor/cuda/cuda_gpu_executor.cc:996] successful NUMA node read from SysFS had negative value (-1), but there must be at least one NUMA node, so returning NUMA node zero. See more at https://github.com/torvalds/linux/blob/v6.0/Documentation/ABI/testing/sysfs-bus-pci#L344-L355\n",
            "2023-07-26 16:09:05.977969: I tensorflow/compiler/xla/stream_executor/cuda/cuda_gpu_executor.cc:996] successful NUMA node read from SysFS had negative value (-1), but there must be at least one NUMA node, so returning NUMA node zero. See more at https://github.com/torvalds/linux/blob/v6.0/Documentation/ABI/testing/sysfs-bus-pci#L344-L355\n",
            "2023-07-26 16:09:05.978158: I tensorflow/compiler/xla/stream_executor/cuda/cuda_gpu_executor.cc:996] successful NUMA node read from SysFS had negative value (-1), but there must be at least one NUMA node, so returning NUMA node zero. See more at https://github.com/torvalds/linux/blob/v6.0/Documentation/ABI/testing/sysfs-bus-pci#L344-L355\n",
            "Collecting en-core-web-sm==3.5.0\n",
            "  Downloading https://github.com/explosion/spacy-models/releases/download/en_core_web_sm-3.5.0/en_core_web_sm-3.5.0-py3-none-any.whl (12.8 MB)\n",
            "\u001b[2K     \u001b[90m━━━━━━━━━━━━━━━━━━━━━━━━━━━━━━━━━━━━━━━━\u001b[0m \u001b[32m12.8/12.8 MB\u001b[0m \u001b[31m31.3 MB/s\u001b[0m eta \u001b[36m0:00:00\u001b[0m\n",
            "\u001b[?25hRequirement already satisfied: spacy<3.6.0,>=3.5.0 in /usr/local/lib/python3.10/dist-packages (from en-core-web-sm==3.5.0) (3.5.4)\n",
            "Requirement already satisfied: spacy-legacy<3.1.0,>=3.0.11 in /usr/local/lib/python3.10/dist-packages (from spacy<3.6.0,>=3.5.0->en-core-web-sm==3.5.0) (3.0.12)\n",
            "Requirement already satisfied: spacy-loggers<2.0.0,>=1.0.0 in /usr/local/lib/python3.10/dist-packages (from spacy<3.6.0,>=3.5.0->en-core-web-sm==3.5.0) (1.0.4)\n",
            "Requirement already satisfied: murmurhash<1.1.0,>=0.28.0 in /usr/local/lib/python3.10/dist-packages (from spacy<3.6.0,>=3.5.0->en-core-web-sm==3.5.0) (1.0.9)\n",
            "Requirement already satisfied: cymem<2.1.0,>=2.0.2 in /usr/local/lib/python3.10/dist-packages (from spacy<3.6.0,>=3.5.0->en-core-web-sm==3.5.0) (2.0.7)\n",
            "Requirement already satisfied: preshed<3.1.0,>=3.0.2 in /usr/local/lib/python3.10/dist-packages (from spacy<3.6.0,>=3.5.0->en-core-web-sm==3.5.0) (3.0.8)\n",
            "Requirement already satisfied: thinc<8.2.0,>=8.1.8 in /usr/local/lib/python3.10/dist-packages (from spacy<3.6.0,>=3.5.0->en-core-web-sm==3.5.0) (8.1.10)\n",
            "Requirement already satisfied: wasabi<1.2.0,>=0.9.1 in /usr/local/lib/python3.10/dist-packages (from spacy<3.6.0,>=3.5.0->en-core-web-sm==3.5.0) (1.1.2)\n",
            "Requirement already satisfied: srsly<3.0.0,>=2.4.3 in /usr/local/lib/python3.10/dist-packages (from spacy<3.6.0,>=3.5.0->en-core-web-sm==3.5.0) (2.4.7)\n",
            "Requirement already satisfied: catalogue<2.1.0,>=2.0.6 in /usr/local/lib/python3.10/dist-packages (from spacy<3.6.0,>=3.5.0->en-core-web-sm==3.5.0) (2.0.8)\n",
            "Requirement already satisfied: typer<0.10.0,>=0.3.0 in /usr/local/lib/python3.10/dist-packages (from spacy<3.6.0,>=3.5.0->en-core-web-sm==3.5.0) (0.9.0)\n",
            "Requirement already satisfied: pathy>=0.10.0 in /usr/local/lib/python3.10/dist-packages (from spacy<3.6.0,>=3.5.0->en-core-web-sm==3.5.0) (0.10.2)\n",
            "Requirement already satisfied: smart-open<7.0.0,>=5.2.1 in /usr/local/lib/python3.10/dist-packages (from spacy<3.6.0,>=3.5.0->en-core-web-sm==3.5.0) (6.3.0)\n",
            "Requirement already satisfied: tqdm<5.0.0,>=4.38.0 in /usr/local/lib/python3.10/dist-packages (from spacy<3.6.0,>=3.5.0->en-core-web-sm==3.5.0) (4.65.0)\n",
            "Requirement already satisfied: numpy>=1.15.0 in /usr/local/lib/python3.10/dist-packages (from spacy<3.6.0,>=3.5.0->en-core-web-sm==3.5.0) (1.22.4)\n",
            "Requirement already satisfied: requests<3.0.0,>=2.13.0 in /usr/local/lib/python3.10/dist-packages (from spacy<3.6.0,>=3.5.0->en-core-web-sm==3.5.0) (2.27.1)\n",
            "Requirement already satisfied: pydantic!=1.8,!=1.8.1,<1.11.0,>=1.7.4 in /usr/local/lib/python3.10/dist-packages (from spacy<3.6.0,>=3.5.0->en-core-web-sm==3.5.0) (1.10.11)\n",
            "Requirement already satisfied: jinja2 in /usr/local/lib/python3.10/dist-packages (from spacy<3.6.0,>=3.5.0->en-core-web-sm==3.5.0) (3.1.2)\n",
            "Requirement already satisfied: setuptools in /usr/local/lib/python3.10/dist-packages (from spacy<3.6.0,>=3.5.0->en-core-web-sm==3.5.0) (67.7.2)\n",
            "Requirement already satisfied: packaging>=20.0 in /usr/local/lib/python3.10/dist-packages (from spacy<3.6.0,>=3.5.0->en-core-web-sm==3.5.0) (23.1)\n",
            "Requirement already satisfied: langcodes<4.0.0,>=3.2.0 in /usr/local/lib/python3.10/dist-packages (from spacy<3.6.0,>=3.5.0->en-core-web-sm==3.5.0) (3.3.0)\n",
            "Requirement already satisfied: typing-extensions>=4.2.0 in /usr/local/lib/python3.10/dist-packages (from pydantic!=1.8,!=1.8.1,<1.11.0,>=1.7.4->spacy<3.6.0,>=3.5.0->en-core-web-sm==3.5.0) (4.7.1)\n",
            "Requirement already satisfied: urllib3<1.27,>=1.21.1 in /usr/local/lib/python3.10/dist-packages (from requests<3.0.0,>=2.13.0->spacy<3.6.0,>=3.5.0->en-core-web-sm==3.5.0) (1.26.16)\n",
            "Requirement already satisfied: certifi>=2017.4.17 in /usr/local/lib/python3.10/dist-packages (from requests<3.0.0,>=2.13.0->spacy<3.6.0,>=3.5.0->en-core-web-sm==3.5.0) (2023.5.7)\n",
            "Requirement already satisfied: charset-normalizer~=2.0.0 in /usr/local/lib/python3.10/dist-packages (from requests<3.0.0,>=2.13.0->spacy<3.6.0,>=3.5.0->en-core-web-sm==3.5.0) (2.0.12)\n",
            "Requirement already satisfied: idna<4,>=2.5 in /usr/local/lib/python3.10/dist-packages (from requests<3.0.0,>=2.13.0->spacy<3.6.0,>=3.5.0->en-core-web-sm==3.5.0) (3.4)\n",
            "Requirement already satisfied: blis<0.8.0,>=0.7.8 in /usr/local/lib/python3.10/dist-packages (from thinc<8.2.0,>=8.1.8->spacy<3.6.0,>=3.5.0->en-core-web-sm==3.5.0) (0.7.9)\n",
            "Requirement already satisfied: confection<1.0.0,>=0.0.1 in /usr/local/lib/python3.10/dist-packages (from thinc<8.2.0,>=8.1.8->spacy<3.6.0,>=3.5.0->en-core-web-sm==3.5.0) (0.1.0)\n",
            "Requirement already satisfied: click<9.0.0,>=7.1.1 in /usr/local/lib/python3.10/dist-packages (from typer<0.10.0,>=0.3.0->spacy<3.6.0,>=3.5.0->en-core-web-sm==3.5.0) (8.1.6)\n",
            "Requirement already satisfied: MarkupSafe>=2.0 in /usr/local/lib/python3.10/dist-packages (from jinja2->spacy<3.6.0,>=3.5.0->en-core-web-sm==3.5.0) (2.1.3)\n",
            "\u001b[38;5;2m✔ Download and installation successful\u001b[0m\n",
            "You can now load the package via spacy.load('en_core_web_sm')\n"
          ]
        }
      ]
    },
    {
      "cell_type": "code",
      "source": [
        "import spacy\n",
        "nlp = spacy.load(\"en_core_web_sm\")"
      ],
      "metadata": {
        "id": "hKCjJZm09jk3"
      },
      "execution_count": 3,
      "outputs": []
    },
    {
      "cell_type": "code",
      "source": [
        "text = \"\"\"The sun shines brightly as I walk along the sandy shore, feeling the\n",
        "soft grains beneath my bare feet. The rhythmic sound of waves crashing against\n",
        "the shore fills the air, creating a soothing melody. The salty breeze carries a\n",
        "refreshing scent, reminding me of the vast ocean that stretches out before me.\n",
        "Seagulls soar gracefully overhead, their calls echoing in the distance\"\"\""
      ],
      "metadata": {
        "id": "jP6LuFdn9ujO"
      },
      "execution_count": 4,
      "outputs": []
    },
    {
      "cell_type": "code",
      "source": [
        "doc = nlp(text)\n",
        "print(doc)"
      ],
      "metadata": {
        "colab": {
          "base_uri": "https://localhost:8080/"
        },
        "id": "3QOMVJDA93id",
        "outputId": "a67e0939-a2da-4aa1-f382-7ba50469cf4e"
      },
      "execution_count": 5,
      "outputs": [
        {
          "output_type": "stream",
          "name": "stdout",
          "text": [
            "The sun shines brightly as I walk along the sandy shore, feeling the\n",
            "soft grains beneath my bare feet. The rhythmic sound of waves crashing against\n",
            "the shore fills the air, creating a soothing melody. The salty breeze carries a\n",
            "refreshing scent, reminding me of the vast ocean that stretches out before me.\n",
            "Seagulls soar gracefully overhead, their calls echoing in the distance\n"
          ]
        }
      ]
    },
    {
      "cell_type": "code",
      "source": [
        "doc = nlp(text)\n",
        "type(doc)"
      ],
      "metadata": {
        "colab": {
          "base_uri": "https://localhost:8080/"
        },
        "id": "sTKdQ10l-Cwg",
        "outputId": "d0c06f39-95a8-4004-aaed-1bbfa4c448c1"
      },
      "execution_count": 6,
      "outputs": [
        {
          "output_type": "execute_result",
          "data": {
            "text/plain": [
              "spacy.tokens.doc.Doc"
            ]
          },
          "metadata": {},
          "execution_count": 6
        }
      ]
    },
    {
      "cell_type": "code",
      "source": [
        "print(doc)"
      ],
      "metadata": {
        "colab": {
          "base_uri": "https://localhost:8080/"
        },
        "id": "KUbsm2RW-rks",
        "outputId": "73db38b0-80ed-46a1-c609-d96e7c44b5bd"
      },
      "execution_count": 7,
      "outputs": [
        {
          "output_type": "stream",
          "name": "stdout",
          "text": [
            "The sun shines brightly as I walk along the sandy shore, feeling the\n",
            "soft grains beneath my bare feet. The rhythmic sound of waves crashing against\n",
            "the shore fills the air, creating a soothing melody. The salty breeze carries a\n",
            "refreshing scent, reminding me of the vast ocean that stretches out before me.\n",
            "Seagulls soar gracefully overhead, their calls echoing in the distance\n"
          ]
        }
      ]
    },
    {
      "cell_type": "code",
      "source": [
        "list(doc.sents)"
      ],
      "metadata": {
        "colab": {
          "base_uri": "https://localhost:8080/"
        },
        "id": "uPXbPfXP-86a",
        "outputId": "85f49cdc-7efe-4264-da53-66a6a82f1d1b"
      },
      "execution_count": 9,
      "outputs": [
        {
          "output_type": "execute_result",
          "data": {
            "text/plain": [
              "[The sun shines brightly as I walk along the sandy shore, feeling the\n",
              " soft grains beneath my bare feet.,\n",
              " The rhythmic sound of waves crashing against\n",
              " the shore fills the air, creating a soothing melody.,\n",
              " The salty breeze carries a\n",
              " refreshing scent, reminding me of the vast ocean that stretches out before me.,\n",
              " Seagulls soar gracefully overhead, their calls echoing in the distance]"
            ]
          },
          "metadata": {},
          "execution_count": 9
        }
      ]
    },
    {
      "cell_type": "code",
      "source": [
        "len(list(doc.sents))"
      ],
      "metadata": {
        "colab": {
          "base_uri": "https://localhost:8080/"
        },
        "id": "c_2V9Xyb_EBa",
        "outputId": "b338949f-9d4a-4c45-d516-4fd67a3f6597"
      },
      "execution_count": 10,
      "outputs": [
        {
          "output_type": "execute_result",
          "data": {
            "text/plain": [
              "4"
            ]
          },
          "metadata": {},
          "execution_count": 10
        }
      ]
    },
    {
      "cell_type": "code",
      "source": [
        "for token in doc :\n",
        "  print(token)"
      ],
      "metadata": {
        "colab": {
          "base_uri": "https://localhost:8080/"
        },
        "id": "7mR7lpDt_T_m",
        "outputId": "1a8e0881-97ea-4cac-8252-ce16bd678463"
      },
      "execution_count": 11,
      "outputs": [
        {
          "output_type": "stream",
          "name": "stdout",
          "text": [
            "The\n",
            "sun\n",
            "shines\n",
            "brightly\n",
            "as\n",
            "I\n",
            "walk\n",
            "along\n",
            "the\n",
            "sandy\n",
            "shore\n",
            ",\n",
            "feeling\n",
            "the\n",
            "\n",
            "\n",
            "soft\n",
            "grains\n",
            "beneath\n",
            "my\n",
            "bare\n",
            "feet\n",
            ".\n",
            "The\n",
            "rhythmic\n",
            "sound\n",
            "of\n",
            "waves\n",
            "crashing\n",
            "against\n",
            "\n",
            "\n",
            "the\n",
            "shore\n",
            "fills\n",
            "the\n",
            "air\n",
            ",\n",
            "creating\n",
            "a\n",
            "soothing\n",
            "melody\n",
            ".\n",
            "The\n",
            "salty\n",
            "breeze\n",
            "carries\n",
            "a\n",
            "\n",
            "\n",
            "refreshing\n",
            "scent\n",
            ",\n",
            "reminding\n",
            "me\n",
            "of\n",
            "the\n",
            "vast\n",
            "ocean\n",
            "that\n",
            "stretches\n",
            "out\n",
            "before\n",
            "me\n",
            ".\n",
            "\n",
            "\n",
            "Seagulls\n",
            "soar\n",
            "gracefully\n",
            "overhead\n",
            ",\n",
            "their\n",
            "calls\n",
            "echoing\n",
            "in\n",
            "the\n",
            "distance\n"
          ]
        }
      ]
    },
    {
      "cell_type": "code",
      "source": [
        "stopwords = spacy.lang.en.stop_words.STOP_WORDS\n",
        "print(stopwords)\n",
        "print(len(stopwords))"
      ],
      "metadata": {
        "colab": {
          "base_uri": "https://localhost:8080/"
        },
        "id": "yVBmLi5u_cvR",
        "outputId": "b14a6228-0fee-4e58-98b7-b7c1cf083fff"
      },
      "execution_count": 12,
      "outputs": [
        {
          "output_type": "stream",
          "name": "stdout",
          "text": [
            "{'four', 'upon', 'last', 'here', 'whereupon', 'five', 'where', 'his', 'done', 'my', 'sometime', 'hereby', 'against', 'few', 'before', 'was', 'your', 'its', 'for', 'each', 'every', 'whoever', 'say', 'but', '’s', 'in', 'who', 'amount', 'less', 'serious', 'somehow', 'thereby', 'which', 'latter', 'beyond', 'some', 'down', 'beside', 'anyhow', 'via', 'most', 'hers', 'these', 'toward', 'put', 'eleven', 'something', 'name', 'front', 'from', 'n‘t', 'the', 'please', 'indeed', 'of', 'that', 'bottom', 'thence', 'beforehand', 'except', 'nine', 'during', 'someone', 'has', 'should', 'our', 'since', 'wherever', 'doing', 'regarding', 'along', 'at', 'anywhere', 'now', 'by', '’re', 'him', 'as', 'throughout', 'hereupon', 'between', \"'re\", 'out', 'up', 'us', 'either', 'seeming', 'this', 'everything', \"'s\", 'i', 'give', 'more', 'show', 'are', 'first', 'yourself', 'latterly', 'must', 'whereby', 'move', 'within', 'back', 'becomes', 'already', 'hence', 'top', 'forty', 'onto', '’ll', 'hereafter', 'both', 'whereafter', 'than', 'then', \"'m\", 'although', '‘d', 'elsewhere', 'see', 'three', 'himself', 'further', 'such', 'behind', 'empty', 'almost', 'could', 'however', 'many', 'and', 'besides', 'using', 'own', '’ve', 'their', 'make', 'twenty', 'nobody', 'mine', 'several', 'none', 'whence', 'used', 'over', 'me', 'on', 'nor', 'above', 'around', 'after', 'so', 'he', 'just', 'everywhere', '‘s', 'quite', 'seems', 'fifty', 'anyway', 'perhaps', 'really', 'off', 'whole', 'she', 'herein', 'therefore', 'being', 'never', 'eight', 'whereas', 'sometimes', 'not', 'together', 'when', 'hundred', 'yours', 'often', 'an', 'no', 'until', 'others', 'through', 'them', 'yet', 'though', 'only', 'rather', 'again', 'moreover', 'to', 'even', '‘re', 'neither', 'much', 'ourselves', 'do', 'seemed', 'thereafter', 'unless', 'nevertheless', 'everyone', 'another', 'without', 'least', 'have', 'else', 'fifteen', 'part', 'still', 'go', 'become', 'side', 'cannot', 'also', '‘ve', 'other', 'amongst', 'herself', '‘m', 'full', 'keep', \"'ll\", 'why', 'how', 'themselves', 'among', 'became', 'with', 'will', 'mostly', '’m', 'nowhere', 'one', 'be', 'meanwhile', 'does', 'ever', 're', \"n't\", 'therein', \"'d\", 'itself', 'whatever', 'her', 'thru', 'under', 'am', 'been', 'afterwards', 'ours', 'ten', 'nothing', 'whom', 'due', 'too', 'there', 'did', 'ca', 'next', 'per', 'across', 'myself', 'they', 'about', 'those', 'all', 'get', 'well', 'noone', 'wherein', 'had', 'seem', 'third', 'two', 'made', 'twelve', 'a', '‘ll', 'whether', 'call', 'namely', 'any', 'once', 'somewhere', 'anything', 'anyone', 'enough', 'formerly', 'if', 'alone', 'you', 'may', 'we', 'or', 'because', 'n’t', 'six', \"'ve\", '’d', 'very', 'thereupon', 'otherwise', 'take', 'same', 'various', 'always', 'whenever', 'thus', 'is', 'whose', 'below', 'can', 'yourselves', 'whither', 'becoming', 'might', 'what', 'former', 'towards', 'sixty', 'while', 'into', 'would', 'were', 'it'}\n",
            "326\n"
          ]
        }
      ]
    },
    {
      "cell_type": "code",
      "source": [
        "for token in doc :\n",
        "  if token.is_stop :\n",
        "    print(token)"
      ],
      "metadata": {
        "colab": {
          "base_uri": "https://localhost:8080/"
        },
        "id": "TO1CfgTD_-CX",
        "outputId": "6636b94a-0317-417a-de58-ecde7b4c65be"
      },
      "execution_count": 13,
      "outputs": [
        {
          "output_type": "stream",
          "name": "stdout",
          "text": [
            "The\n",
            "as\n",
            "I\n",
            "along\n",
            "the\n",
            "the\n",
            "my\n",
            "The\n",
            "of\n",
            "against\n",
            "the\n",
            "the\n",
            "a\n",
            "The\n",
            "a\n",
            "me\n",
            "of\n",
            "the\n",
            "that\n",
            "out\n",
            "before\n",
            "me\n",
            "their\n",
            "in\n",
            "the\n"
          ]
        }
      ]
    },
    {
      "cell_type": "code",
      "source": [
        "for token in doc:\n",
        "  if token.is_punct:\n",
        "    print(token)"
      ],
      "metadata": {
        "colab": {
          "base_uri": "https://localhost:8080/"
        },
        "id": "1-PbZYhUAPZc",
        "outputId": "f30373a0-51b7-45a9-a49d-a52bd7bd7e36"
      },
      "execution_count": 14,
      "outputs": [
        {
          "output_type": "stream",
          "name": "stdout",
          "text": [
            ",\n",
            ".\n",
            ",\n",
            ".\n",
            ",\n",
            ".\n",
            ",\n"
          ]
        }
      ]
    },
    {
      "cell_type": "code",
      "source": [
        "for token in doc:\n",
        "  print(token.lemma_)"
      ],
      "metadata": {
        "colab": {
          "base_uri": "https://localhost:8080/"
        },
        "id": "QNSH0gV7AZTR",
        "outputId": "63a30150-82ff-45e3-fe86-fb89623833d8"
      },
      "execution_count": 15,
      "outputs": [
        {
          "output_type": "stream",
          "name": "stdout",
          "text": [
            "the\n",
            "sun\n",
            "shine\n",
            "brightly\n",
            "as\n",
            "I\n",
            "walk\n",
            "along\n",
            "the\n",
            "sandy\n",
            "shore\n",
            ",\n",
            "feel\n",
            "the\n",
            "\n",
            "\n",
            "soft\n",
            "grain\n",
            "beneath\n",
            "my\n",
            "bare\n",
            "foot\n",
            ".\n",
            "the\n",
            "rhythmic\n",
            "sound\n",
            "of\n",
            "wave\n",
            "crash\n",
            "against\n",
            "\n",
            "\n",
            "the\n",
            "shore\n",
            "fill\n",
            "the\n",
            "air\n",
            ",\n",
            "create\n",
            "a\n",
            "soothing\n",
            "melody\n",
            ".\n",
            "the\n",
            "salty\n",
            "breeze\n",
            "carry\n",
            "a\n",
            "\n",
            "\n",
            "refreshing\n",
            "scent\n",
            ",\n",
            "remind\n",
            "I\n",
            "of\n",
            "the\n",
            "vast\n",
            "ocean\n",
            "that\n",
            "stretch\n",
            "out\n",
            "before\n",
            "I\n",
            ".\n",
            "\n",
            "\n",
            "Seagulls\n",
            "soar\n",
            "gracefully\n",
            "overhead\n",
            ",\n",
            "their\n",
            "call\n",
            "echo\n",
            "in\n",
            "the\n",
            "distance\n"
          ]
        }
      ]
    },
    {
      "cell_type": "code",
      "source": [
        "## is_ascii , is_digit, is_lower, is_uppercase all these options are provided by this library for each token to be analysed."
      ],
      "metadata": {
        "id": "Nm3LXGWJAqTn"
      },
      "execution_count": null,
      "outputs": []
    },
    {
      "cell_type": "markdown",
      "source": [
        "\n",
        "\n",
        "---\n",
        "\n"
      ],
      "metadata": {
        "id": "rqVKesG2BQYG"
      }
    },
    {
      "cell_type": "code",
      "source": [
        "# parts of speech\n",
        "\n",
        "for token in doc:\n",
        "  print(f'{token} -->> {token.tag_}')"
      ],
      "metadata": {
        "colab": {
          "base_uri": "https://localhost:8080/"
        },
        "id": "qmBdE7pHBf-X",
        "outputId": "e69442d0-bc7a-46fa-b038-3520c5a78213"
      },
      "execution_count": 16,
      "outputs": [
        {
          "output_type": "stream",
          "name": "stdout",
          "text": [
            "The -->> DT\n",
            "sun -->> NN\n",
            "shines -->> VBZ\n",
            "brightly -->> RB\n",
            "as -->> IN\n",
            "I -->> PRP\n",
            "walk -->> VBP\n",
            "along -->> IN\n",
            "the -->> DT\n",
            "sandy -->> JJ\n",
            "shore -->> NN\n",
            ", -->> ,\n",
            "feeling -->> VBG\n",
            "the -->> DT\n",
            "\n",
            " -->> _SP\n",
            "soft -->> JJ\n",
            "grains -->> NNS\n",
            "beneath -->> IN\n",
            "my -->> PRP$\n",
            "bare -->> JJ\n",
            "feet -->> NNS\n",
            ". -->> .\n",
            "The -->> DT\n",
            "rhythmic -->> JJ\n",
            "sound -->> NN\n",
            "of -->> IN\n",
            "waves -->> NNS\n",
            "crashing -->> VBG\n",
            "against -->> IN\n",
            "\n",
            " -->> _SP\n",
            "the -->> DT\n",
            "shore -->> NN\n",
            "fills -->> VBZ\n",
            "the -->> DT\n",
            "air -->> NN\n",
            ", -->> ,\n",
            "creating -->> VBG\n",
            "a -->> DT\n",
            "soothing -->> JJ\n",
            "melody -->> NN\n",
            ". -->> .\n",
            "The -->> DT\n",
            "salty -->> JJ\n",
            "breeze -->> NN\n",
            "carries -->> VBZ\n",
            "a -->> DT\n",
            "\n",
            " -->> _SP\n",
            "refreshing -->> JJ\n",
            "scent -->> NN\n",
            ", -->> ,\n",
            "reminding -->> VBG\n",
            "me -->> PRP\n",
            "of -->> IN\n",
            "the -->> DT\n",
            "vast -->> JJ\n",
            "ocean -->> NN\n",
            "that -->> WDT\n",
            "stretches -->> VBZ\n",
            "out -->> RP\n",
            "before -->> IN\n",
            "me -->> PRP\n",
            ". -->> .\n",
            "\n",
            " -->> _SP\n",
            "Seagulls -->> NNP\n",
            "soar -->> VBP\n",
            "gracefully -->> RB\n",
            "overhead -->> RB\n",
            ", -->> ,\n",
            "their -->> PRP$\n",
            "calls -->> NNS\n",
            "echoing -->> VBG\n",
            "in -->> IN\n",
            "the -->> DT\n",
            "distance -->> NN\n"
          ]
        }
      ]
    },
    {
      "cell_type": "code",
      "source": [
        "!python -m spacy download en_core_web_md"
      ],
      "metadata": {
        "colab": {
          "base_uri": "https://localhost:8080/"
        },
        "id": "sufoXAPPFW8P",
        "outputId": "8a913870-0de3-4cdd-d495-d00606257d23"
      },
      "execution_count": 18,
      "outputs": [
        {
          "output_type": "stream",
          "name": "stdout",
          "text": [
            "2023-07-26 16:43:46.029996: W tensorflow/compiler/tf2tensorrt/utils/py_utils.cc:38] TF-TRT Warning: Could not find TensorRT\n",
            "Collecting en-core-web-md==3.5.0\n",
            "  Downloading https://github.com/explosion/spacy-models/releases/download/en_core_web_md-3.5.0/en_core_web_md-3.5.0-py3-none-any.whl (42.8 MB)\n",
            "\u001b[2K     \u001b[90m━━━━━━━━━━━━━━━━━━━━━━━━━━━━━━━━━━━━━━━━\u001b[0m \u001b[32m42.8/42.8 MB\u001b[0m \u001b[31m25.6 MB/s\u001b[0m eta \u001b[36m0:00:00\u001b[0m\n",
            "\u001b[?25hRequirement already satisfied: spacy<3.6.0,>=3.5.0 in /usr/local/lib/python3.10/dist-packages (from en-core-web-md==3.5.0) (3.5.4)\n",
            "Requirement already satisfied: spacy-legacy<3.1.0,>=3.0.11 in /usr/local/lib/python3.10/dist-packages (from spacy<3.6.0,>=3.5.0->en-core-web-md==3.5.0) (3.0.12)\n",
            "Requirement already satisfied: spacy-loggers<2.0.0,>=1.0.0 in /usr/local/lib/python3.10/dist-packages (from spacy<3.6.0,>=3.5.0->en-core-web-md==3.5.0) (1.0.4)\n",
            "Requirement already satisfied: murmurhash<1.1.0,>=0.28.0 in /usr/local/lib/python3.10/dist-packages (from spacy<3.6.0,>=3.5.0->en-core-web-md==3.5.0) (1.0.9)\n",
            "Requirement already satisfied: cymem<2.1.0,>=2.0.2 in /usr/local/lib/python3.10/dist-packages (from spacy<3.6.0,>=3.5.0->en-core-web-md==3.5.0) (2.0.7)\n",
            "Requirement already satisfied: preshed<3.1.0,>=3.0.2 in /usr/local/lib/python3.10/dist-packages (from spacy<3.6.0,>=3.5.0->en-core-web-md==3.5.0) (3.0.8)\n",
            "Requirement already satisfied: thinc<8.2.0,>=8.1.8 in /usr/local/lib/python3.10/dist-packages (from spacy<3.6.0,>=3.5.0->en-core-web-md==3.5.0) (8.1.10)\n",
            "Requirement already satisfied: wasabi<1.2.0,>=0.9.1 in /usr/local/lib/python3.10/dist-packages (from spacy<3.6.0,>=3.5.0->en-core-web-md==3.5.0) (1.1.2)\n",
            "Requirement already satisfied: srsly<3.0.0,>=2.4.3 in /usr/local/lib/python3.10/dist-packages (from spacy<3.6.0,>=3.5.0->en-core-web-md==3.5.0) (2.4.7)\n",
            "Requirement already satisfied: catalogue<2.1.0,>=2.0.6 in /usr/local/lib/python3.10/dist-packages (from spacy<3.6.0,>=3.5.0->en-core-web-md==3.5.0) (2.0.8)\n",
            "Requirement already satisfied: typer<0.10.0,>=0.3.0 in /usr/local/lib/python3.10/dist-packages (from spacy<3.6.0,>=3.5.0->en-core-web-md==3.5.0) (0.9.0)\n",
            "Requirement already satisfied: pathy>=0.10.0 in /usr/local/lib/python3.10/dist-packages (from spacy<3.6.0,>=3.5.0->en-core-web-md==3.5.0) (0.10.2)\n",
            "Requirement already satisfied: smart-open<7.0.0,>=5.2.1 in /usr/local/lib/python3.10/dist-packages (from spacy<3.6.0,>=3.5.0->en-core-web-md==3.5.0) (6.3.0)\n",
            "Requirement already satisfied: tqdm<5.0.0,>=4.38.0 in /usr/local/lib/python3.10/dist-packages (from spacy<3.6.0,>=3.5.0->en-core-web-md==3.5.0) (4.65.0)\n",
            "Requirement already satisfied: numpy>=1.15.0 in /usr/local/lib/python3.10/dist-packages (from spacy<3.6.0,>=3.5.0->en-core-web-md==3.5.0) (1.22.4)\n",
            "Requirement already satisfied: requests<3.0.0,>=2.13.0 in /usr/local/lib/python3.10/dist-packages (from spacy<3.6.0,>=3.5.0->en-core-web-md==3.5.0) (2.27.1)\n",
            "Requirement already satisfied: pydantic!=1.8,!=1.8.1,<1.11.0,>=1.7.4 in /usr/local/lib/python3.10/dist-packages (from spacy<3.6.0,>=3.5.0->en-core-web-md==3.5.0) (1.10.11)\n",
            "Requirement already satisfied: jinja2 in /usr/local/lib/python3.10/dist-packages (from spacy<3.6.0,>=3.5.0->en-core-web-md==3.5.0) (3.1.2)\n",
            "Requirement already satisfied: setuptools in /usr/local/lib/python3.10/dist-packages (from spacy<3.6.0,>=3.5.0->en-core-web-md==3.5.0) (67.7.2)\n",
            "Requirement already satisfied: packaging>=20.0 in /usr/local/lib/python3.10/dist-packages (from spacy<3.6.0,>=3.5.0->en-core-web-md==3.5.0) (23.1)\n",
            "Requirement already satisfied: langcodes<4.0.0,>=3.2.0 in /usr/local/lib/python3.10/dist-packages (from spacy<3.6.0,>=3.5.0->en-core-web-md==3.5.0) (3.3.0)\n",
            "Requirement already satisfied: typing-extensions>=4.2.0 in /usr/local/lib/python3.10/dist-packages (from pydantic!=1.8,!=1.8.1,<1.11.0,>=1.7.4->spacy<3.6.0,>=3.5.0->en-core-web-md==3.5.0) (4.7.1)\n",
            "Requirement already satisfied: urllib3<1.27,>=1.21.1 in /usr/local/lib/python3.10/dist-packages (from requests<3.0.0,>=2.13.0->spacy<3.6.0,>=3.5.0->en-core-web-md==3.5.0) (1.26.16)\n",
            "Requirement already satisfied: certifi>=2017.4.17 in /usr/local/lib/python3.10/dist-packages (from requests<3.0.0,>=2.13.0->spacy<3.6.0,>=3.5.0->en-core-web-md==3.5.0) (2023.5.7)\n",
            "Requirement already satisfied: charset-normalizer~=2.0.0 in /usr/local/lib/python3.10/dist-packages (from requests<3.0.0,>=2.13.0->spacy<3.6.0,>=3.5.0->en-core-web-md==3.5.0) (2.0.12)\n",
            "Requirement already satisfied: idna<4,>=2.5 in /usr/local/lib/python3.10/dist-packages (from requests<3.0.0,>=2.13.0->spacy<3.6.0,>=3.5.0->en-core-web-md==3.5.0) (3.4)\n",
            "Requirement already satisfied: blis<0.8.0,>=0.7.8 in /usr/local/lib/python3.10/dist-packages (from thinc<8.2.0,>=8.1.8->spacy<3.6.0,>=3.5.0->en-core-web-md==3.5.0) (0.7.9)\n",
            "Requirement already satisfied: confection<1.0.0,>=0.0.1 in /usr/local/lib/python3.10/dist-packages (from thinc<8.2.0,>=8.1.8->spacy<3.6.0,>=3.5.0->en-core-web-md==3.5.0) (0.1.0)\n",
            "Requirement already satisfied: click<9.0.0,>=7.1.1 in /usr/local/lib/python3.10/dist-packages (from typer<0.10.0,>=0.3.0->spacy<3.6.0,>=3.5.0->en-core-web-md==3.5.0) (8.1.6)\n",
            "Requirement already satisfied: MarkupSafe>=2.0 in /usr/local/lib/python3.10/dist-packages (from jinja2->spacy<3.6.0,>=3.5.0->en-core-web-md==3.5.0) (2.1.3)\n",
            "Installing collected packages: en-core-web-md\n",
            "Successfully installed en-core-web-md-3.5.0\n",
            "\u001b[38;5;2m✔ Download and installation successful\u001b[0m\n",
            "You can now load the package via spacy.load('en_core_web_md')\n"
          ]
        }
      ]
    },
    {
      "cell_type": "code",
      "source": [
        "nlpp = spacy.load(\"en_core_web_md\")"
      ],
      "metadata": {
        "id": "Cw6nyPh1FB6H"
      },
      "execution_count": 19,
      "outputs": []
    },
    {
      "cell_type": "code",
      "source": [
        "text1='king'\n",
        "text2='queen'\n",
        "\n",
        "doc1=nlpp(text1)\n",
        "doc2=nlpp(text2)\n",
        "\n",
        "doc1.similarity(doc2)"
      ],
      "metadata": {
        "colab": {
          "base_uri": "https://localhost:8080/"
        },
        "id": "5osVXzD1FPRj",
        "outputId": "52a62cf4-a349-4405-ed96-8731a7c7dbcd"
      },
      "execution_count": 20,
      "outputs": [
        {
          "output_type": "execute_result",
          "data": {
            "text/plain": [
              "0.6108841234425123"
            ]
          },
          "metadata": {},
          "execution_count": 20
        }
      ]
    },
    {
      "cell_type": "code",
      "source": [],
      "metadata": {
        "id": "YMdOMRb1Fmev"
      },
      "execution_count": null,
      "outputs": []
    }
  ]
}