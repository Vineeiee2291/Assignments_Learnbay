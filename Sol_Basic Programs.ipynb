{
 "cells": [
  {
   "cell_type": "markdown",
   "id": "d809f6b5",
   "metadata": {},
   "source": [
    "# Basic Python Programs"
   ]
  },
  {
   "cell_type": "code",
   "execution_count": 4,
   "id": "262c1db1",
   "metadata": {},
   "outputs": [
    {
     "name": "stdout",
     "output_type": "stream",
     "text": [
      "Hello world!\n"
     ]
    }
   ],
   "source": [
    "#Program to print Hello world!\n",
    "\n",
    "print('Hello world!')"
   ]
  },
  {
   "cell_type": "code",
   "execution_count": 5,
   "id": "25ebc7a8",
   "metadata": {},
   "outputs": [
    {
     "name": "stdout",
     "output_type": "stream",
     "text": [
      "10\n",
      "22.2\n",
      "True\n",
      "Python\n"
     ]
    }
   ],
   "source": [
    "# Declare the Int, Float, Boolean and String variable and print its value\n",
    "\n",
    "Int = 10\n",
    "Float = 22.2\n",
    "Boolean = True\n",
    "String = 'Python'\n",
    "print(Int)\n",
    "print(Float)\n",
    "print(Boolean)\n",
    "print(String)"
   ]
  },
  {
   "cell_type": "code",
   "execution_count": 3,
   "id": "261fbf45",
   "metadata": {},
   "outputs": [
    {
     "name": "stdout",
     "output_type": "stream",
     "text": [
      "Enter the length of first side: 5\n",
      "Enter  the length of second side: 5\n",
      "Enter  the length of third side: 5\n",
      "The area of the triangle is 10.83\n"
     ]
    }
   ],
   "source": [
    "# Program to calculate the area of a triangle\n",
    "\n",
    "a = float(input('Enter the length of first side: '))  \n",
    "b = float(input('Enter  the length of second side: '))  \n",
    "c = float(input('Enter  the length of third side: '))  \n",
    "s = (a + b + c) / 2  \n",
    "Area = (s*(s-a)*(s-b)*(s-c)) ** 0.5  \n",
    "print('The area of the triangle is %0.2f' %Area)"
   ]
  },
  {
   "cell_type": "code",
   "execution_count": 6,
   "id": "c37fe43a",
   "metadata": {},
   "outputs": [
    {
     "name": "stdout",
     "output_type": "stream",
     "text": [
      " The value of a after swapping is 22\n",
      " The value of b after swapping is 10\n"
     ]
    }
   ],
   "source": [
    "# Program to swap two variables\n",
    "\n",
    "a = 10\n",
    "b = 22\n",
    "\n",
    "temp = a\n",
    "a = b\n",
    "b = temp\n",
    "\n",
    "print(f' The value of a after swapping is {a}')\n",
    "print(f' The value of b after swapping is {b}')"
   ]
  },
  {
   "cell_type": "code",
   "execution_count": 7,
   "id": "6f051f52",
   "metadata": {},
   "outputs": [
    {
     "name": "stdout",
     "output_type": "stream",
     "text": [
      "Enter a number: 5\n",
      "The number 5.0 is positive.\n"
     ]
    }
   ],
   "source": [
    "# Program to check if a number is positive, negative or zero\n",
    "\n",
    "num = float(input('Enter a number: '))\n",
    "if num > 0:\n",
    "    print(f'The number {num} is positive.')\n",
    "elif num < 0:\n",
    "    print(f'The number {num} is negative.')\n",
    "else:\n",
    "    print(f'The number {num} is zero.')\n"
   ]
  },
  {
   "cell_type": "code",
   "execution_count": 8,
   "id": "1c491ec4",
   "metadata": {},
   "outputs": [
    {
     "name": "stdout",
     "output_type": "stream",
     "text": [
      "Enter a number: 25\n",
      "The number 25.0 is odd.\n"
     ]
    }
   ],
   "source": [
    "# Program to check if a number is even or odd\n",
    "\n",
    "num = float(input('Enter a number: '))\n",
    "if num % 2 == 0:\n",
    "    print(f'The number {num} is even.')\n",
    "else:\n",
    "    print(f'The number {num} is odd.')"
   ]
  },
  {
   "cell_type": "code",
   "execution_count": 9,
   "id": "d6b27980",
   "metadata": {},
   "outputs": [
    {
     "name": "stdout",
     "output_type": "stream",
     "text": [
      "Enter a start range: 5\n",
      "Enter an end range: 8\n",
      "5 7 "
     ]
    }
   ],
   "source": [
    "# Program to print odd number in a given range\n",
    "\n",
    "start = int(input('Enter a start range: '))\n",
    "end = int(input('Enter an end range: '))\n",
    "for i in range(start, end + 1):\n",
    "    if i % 2 != 0:\n",
    "        print(i, end = ' ')"
   ]
  },
  {
   "cell_type": "code",
   "execution_count": 10,
   "id": "a30f078a",
   "metadata": {},
   "outputs": [
    {
     "name": "stdout",
     "output_type": "stream",
     "text": [
      "Enter a number: 5\n",
      "The factorial of 5 is 120. \n"
     ]
    }
   ],
   "source": [
    "# Program to find the factorial of a number\n",
    "\n",
    "num = int(input('Enter a number: '))\n",
    "factorial = 1 \n",
    "if num < 0:\n",
    "    print(\"Factorial doesn't exist for negative numbers.\")\n",
    "elif num == 0 or num == 1:\n",
    "    print(f\"The factorial of {num} is 1.\")\n",
    "else:\n",
    "    for i in range(1, num+1):\n",
    "        factorial = factorial * i\n",
    "    print(f\"The factorial of {num} is {factorial}. \")\n",
    "    "
   ]
  },
  {
   "cell_type": "code",
   "execution_count": 11,
   "id": "b648cba0",
   "metadata": {},
   "outputs": [
    {
     "name": "stdout",
     "output_type": "stream",
     "text": [
      "Enter a number: 5654\n",
      "The reverse number is 4565\n"
     ]
    }
   ],
   "source": [
    "# Program to reverse a given number\n",
    "# Method 1 \n",
    "\n",
    "num = int(input('Enter a number: '))\n",
    "rev_num = 0\n",
    "\n",
    "while (num > 0):\n",
    "    rem = num % 10\n",
    "    rev_num = rev_num * 10 + rem\n",
    "    num = num // 10\n",
    "\n",
    "print(f\"The reverse number is {rev_num}\")"
   ]
  },
  {
   "cell_type": "code",
   "execution_count": 12,
   "id": "ecc7fde8",
   "metadata": {},
   "outputs": [
    {
     "name": "stdout",
     "output_type": "stream",
     "text": [
      "Enter a number: 35351321\n",
      "The reverse number is 12315353\n"
     ]
    }
   ],
   "source": [
    "# Method 2\n",
    "\n",
    "num = int(input('Enter a number: '))\n",
    "\n",
    "rev = str(num)[::-1]\n",
    "print(f\"The reverse number is {rev}\")"
   ]
  },
  {
   "cell_type": "code",
   "execution_count": 13,
   "id": "ac53fcd6",
   "metadata": {},
   "outputs": [
    {
     "name": "stdout",
     "output_type": "stream",
     "text": [
      "Enter a number: 5\n",
      "The sum of natural numbers is 15. \n"
     ]
    }
   ],
   "source": [
    "# Program to find the sum of natural numbers\n",
    "\n",
    "num = int(input('Enter a number: '))\n",
    "result = (num * (num + 1))/2\n",
    "print(f\"The sum of natural numbers is {int(result)}. \")"
   ]
  },
  {
   "cell_type": "markdown",
   "id": "ace151ba",
   "metadata": {},
   "source": [
    "# Strings"
   ]
  },
  {
   "cell_type": "code",
   "execution_count": 14,
   "id": "d6e11e4b",
   "metadata": {},
   "outputs": [
    {
     "name": "stdout",
     "output_type": "stream",
     "text": [
      "Enter a string: vjhvhjb\n",
      "The string after reversal is bjhvhjv\n"
     ]
    }
   ],
   "source": [
    "# Program to reverse a string without using recursion\n",
    "\n",
    "str1 = str(input('Enter a string: '))\n",
    "\n",
    "str2 = str1[::-1]\n",
    "print(f\"The string after reversal is {str2}\")\n"
   ]
  },
  {
   "cell_type": "code",
   "execution_count": 15,
   "id": "afd041a6",
   "metadata": {},
   "outputs": [
    {
     "name": "stdout",
     "output_type": "stream",
     "text": [
      "Enter a string: vhvnmn\n",
      "The string is not a palindrome\n"
     ]
    }
   ],
   "source": [
    "str1 = str(input('Enter a string: '))\n",
    "\n",
    "if str1 == str1[::-1]:\n",
    "    print('The string is a palindrome')\n",
    "else:\n",
    "    print('The string is not a palindrome')"
   ]
  },
  {
   "cell_type": "code",
   "execution_count": 16,
   "id": "62047511",
   "metadata": {},
   "outputs": [
    {
     "name": "stdout",
     "output_type": "stream",
     "text": [
      "$n $pple $ d$y keeps the doctor $w$y\n"
     ]
    }
   ],
   "source": [
    "# Python program to replace all occurrences of 'a' with '$' in a string\n",
    "\n",
    "str3 = \"An apple a day keeps the doctor away\"\n",
    "str3 = str3.lower().replace('a','$')\n",
    "print(str3)"
   ]
  },
  {
   "cell_type": "code",
   "execution_count": 17,
   "id": "09c563ce",
   "metadata": {},
   "outputs": [
    {
     "name": "stdout",
     "output_type": "stream",
     "text": [
      "No of vowels: 11\n"
     ]
    }
   ],
   "source": [
    "# Python program to count the number of vowels in a string\n",
    "\n",
    "str4 = \"Python is the best programming Language\"\n",
    "vowels = \"aeiouAEIOU\"\n",
    "cnt = 0\n",
    "\n",
    "for i in str4:\n",
    "    if i in vowels:\n",
    "        cnt += 1\n",
    "print(\"No of vowels:\", cnt)"
   ]
  },
  {
   "cell_type": "code",
   "execution_count": 18,
   "id": "ce9533f1",
   "metadata": {},
   "outputs": [
    {
     "name": "stdout",
     "output_type": "stream",
     "text": [
      "Larger string is: Python is the best programming Language\n"
     ]
    }
   ],
   "source": [
    "# Program to display the larger string of two strings without using built-in functions\n",
    "\n",
    "str5 = \"It is easy to learn\"\n",
    "str6 = \"Python is the best programming Language\"\n",
    "cnt1 = 0\n",
    "cnt2 = 0\n",
    "\n",
    "for i in str5:\n",
    "    cnt1 += 1\n",
    "for j in str6:\n",
    "    cnt2 += 1\n",
    "    \n",
    "if(cnt1 > cnt2):\n",
    "    print(f\"Larger string is: {str5}\")\n",
    "elif(cnt1 == cnt2):\n",
    "    print(\"Strings are equal\")\n",
    "else:\n",
    "    print(f\"Larger string is: {str6}\")"
   ]
  },
  {
   "cell_type": "code",
   "execution_count": 19,
   "id": "d8764216",
   "metadata": {},
   "outputs": [
    {
     "name": "stdout",
     "output_type": "stream",
     "text": [
      "Total digits in the string is 6. \n",
      "Total letters in the string is 28. \n"
     ]
    }
   ],
   "source": [
    "# Program to count the number of digits and letters in a string\n",
    "\n",
    "str7 = \"Learnbay Data Science 24June2022 batch\"\n",
    "total_digits = 0\n",
    "total_letters = 0\n",
    "\n",
    "for i in str7:\n",
    "    if i.isdigit():\n",
    "        total_digits += 1\n",
    "    elif i.isalpha():\n",
    "        total_letters += 1\n",
    "    else:\n",
    "        continue\n",
    "print(f\"Total digits in the string is {total_digits}. \")\n",
    "print(f\"Total letters in the string is {total_letters}. \")"
   ]
  },
  {
   "cell_type": "code",
   "execution_count": 20,
   "id": "6c86e05a",
   "metadata": {},
   "outputs": [
    {
     "name": "stdout",
     "output_type": "stream",
     "text": [
      "Total lowercase characters in the string is 15. \n"
     ]
    }
   ],
   "source": [
    "# Program to count the number of lowercase characters in a string\n",
    "\n",
    "str8 = \"Learnbay DATA SCIENCE 24June2022 batch\"\n",
    "total_lower = 0\n",
    "\n",
    "for i in str8:\n",
    "    if i.islower():\n",
    "        total_lower += 1\n",
    "\n",
    "print(f\"Total lowercase characters in the string is {total_lower}. \")"
   ]
  },
  {
   "cell_type": "code",
   "execution_count": 21,
   "id": "1a2c6a2c",
   "metadata": {},
   "outputs": [
    {
     "name": "stdout",
     "output_type": "stream",
     "text": [
      "Substring is not found\n"
     ]
    }
   ],
   "source": [
    "# Program to check if a substring is present in a given string\n",
    "\n",
    "str9 = \"Learnbay Data Science 24June2022 batch\"\n",
    "sub_str = 'Hello'\n",
    "\n",
    "if (sub_str in str9):\n",
    "    print(\"Substring is present in the given string\")\n",
    "else:\n",
    "    print(\"Substring is not found\")"
   ]
  },
  {
   "cell_type": "markdown",
   "id": "28870083",
   "metadata": {},
   "source": [
    "# List and Tuples"
   ]
  },
  {
   "cell_type": "code",
   "execution_count": 22,
   "id": "30e168d6",
   "metadata": {},
   "outputs": [
    {
     "name": "stdout",
     "output_type": "stream",
     "text": [
      "Largest number in the list is 68. \n"
     ]
    }
   ],
   "source": [
    "# Program to find the largest number in a list\n",
    "\n",
    "lst1 = [10, 45, 13, 22, 31, 68]\n",
    "\n",
    "lst1.sort()\n",
    "print(f\"Largest number in the list is {lst1[-1]}. \")"
   ]
  },
  {
   "cell_type": "code",
   "execution_count": 24,
   "id": "c5ea3ba3",
   "metadata": {},
   "outputs": [
    {
     "name": "stdout",
     "output_type": "stream",
     "text": [
      "The even numbers in the list are [10, 22, 68]\n",
      "The odd numbers in the list are [45, 13, 31]\n"
     ]
    }
   ],
   "source": [
    "# Program to put even and odd elements in a list into two different lists:\n",
    "\n",
    "lst1 = [10, 45, 13, 22, 31, 68]\n",
    "lst2 = []\n",
    "lst3 = []\n",
    "\n",
    "for i in lst1:\n",
    "    if i%2 == 0:\n",
    "        lst2.append(i)\n",
    "    else:\n",
    "        lst3.append(i)\n",
    "print(f'The even numbers in the list are {lst2}')\n",
    "print(f'The odd numbers in the list are {lst3}')"
   ]
  },
  {
   "cell_type": "code",
   "execution_count": 25,
   "id": "a6e4d984",
   "metadata": {},
   "outputs": [
    {
     "name": "stdout",
     "output_type": "stream",
     "text": [
      "The length of the longest word is 7 and the longest word is program.\n"
     ]
    }
   ],
   "source": [
    "# Program to read a list of words and return the length of the longest one\n",
    "\n",
    "lst4 = ['Python', 'program', 'return', 'length', 'longest', 'one']\n",
    "\n",
    "lst5 = []\n",
    "\n",
    "for word in lst4:\n",
    "    lst5.append((len(word),word))\n",
    "lst5.sort()\n",
    "print(f'The length of the longest word is {len(lst5[-1][1])} and the longest word is {lst5[-1][1]}.')"
   ]
  },
  {
   "cell_type": "code",
   "execution_count": 26,
   "id": "15a2f160",
   "metadata": {},
   "outputs": [
    {
     "name": "stdout",
     "output_type": "stream",
     "text": [
      "[(1, 1), (2, 4), (3, 9), (4, 16), (5, 25)]\n"
     ]
    }
   ],
   "source": [
    "# Create a list of Tuples with the first element as the number and second element as the square of the number\n",
    "\n",
    "lst6 = [1, 2, 3, 4, 5]\n",
    "\n",
    "lst7 = [(val, val ** 2) for val in lst6]\n",
    "print(lst7)"
   ]
  },
  {
   "cell_type": "code",
   "execution_count": 27,
   "id": "1e46c7aa",
   "metadata": {},
   "outputs": [
    {
     "name": "stdout",
     "output_type": "stream",
     "text": [
      "[10, 45, 13, 22, 31, 68, 75, 89, 95]\n"
     ]
    }
   ],
   "source": [
    "# Program to remove the duplicate items from a list\n",
    "\n",
    "lst8 = [10, 45, 13, 22, 31, 68, 13, 22, 45, 75, 89, 95]\n",
    "\n",
    "lst9 = []\n",
    "for i in lst8:\n",
    "    if i not in lst9:\n",
    "        lst9.append(i)\n",
    "print(lst9)\n",
    "        "
   ]
  },
  {
   "cell_type": "markdown",
   "id": "8e8097c1",
   "metadata": {},
   "source": [
    "# Dictionary"
   ]
  },
  {
   "cell_type": "code",
   "execution_count": 28,
   "id": "4d4fbfce",
   "metadata": {},
   "outputs": [
    {
     "name": "stdout",
     "output_type": "stream",
     "text": [
      "Enter the key which needs to be checked: hjhjb\n",
      "Key does not exist in the dictionary\n"
     ]
    }
   ],
   "source": [
    "# Program to check if a given Key exists in a dictionary or not\n",
    "\n",
    "dict1 = {\"name\": \"Kelly\", \"age\":25, \"salary\": 8000, \"city\": \"New york\"}\n",
    "key = (input('Enter the key which needs to be checked: '))\n",
    "if key in dict1.keys():\n",
    "    print('Key exists in the dictionary')\n",
    "else:\n",
    "    print('Key does not exist in the dictionary')\n",
    "    \n"
   ]
  },
  {
   "cell_type": "code",
   "execution_count": 29,
   "id": "fb6323f1",
   "metadata": {},
   "outputs": [
    {
     "name": "stdout",
     "output_type": "stream",
     "text": [
      "The sum of all the items in a dictionary is 150\n"
     ]
    }
   ],
   "source": [
    "# Program to sum all the items in a dictionary\n",
    "\n",
    "dict2 = {'a':10, 'b':20, 'c':30, 'd':40, 'e':50}\n",
    "sum = 0\n",
    "for i in dict2.values():\n",
    "    sum += i\n",
    "print(f'The sum of all the items in a dictionary is {sum}')"
   ]
  },
  {
   "cell_type": "code",
   "execution_count": 30,
   "id": "9d16180a",
   "metadata": {},
   "outputs": [
    {
     "name": "stdout",
     "output_type": "stream",
     "text": [
      "Enter the key which needs to be removed: name\n",
      "The key \"name\" is removed from the dictionary.\n",
      "{'age': 25, 'salary': 8000, 'city': 'New york'}\n"
     ]
    }
   ],
   "source": [
    "# Program to remove the given key from a dictionary:\n",
    "\n",
    "dict3 = {\"name\": \"Kelly\", \"age\":25, \"salary\": 8000, \"city\": \"New york\"}\n",
    "key = (input('Enter the key which needs to be removed: '))\n",
    "del(dict3[key])\n",
    "print(f'The key \"{key}\" is removed from the dictionary.')\n",
    "print(dict3)"
   ]
  },
  {
   "cell_type": "code",
   "execution_count": 31,
   "id": "0c195ca9",
   "metadata": {},
   "outputs": [
    {
     "name": "stdout",
     "output_type": "stream",
     "text": [
      "a 10\n",
      "b 20\n",
      "c 30\n",
      "d 40\n",
      "e 50\n"
     ]
    }
   ],
   "source": [
    "# Write a python program to iterate over dictionaries using for loops\n",
    "\n",
    "dict4 = {'a':10, 'b':20, 'c':30, 'd':40, 'e':50}\n",
    "\n",
    "for key, value in dict4.items():\n",
    "    print(key, value)"
   ]
  },
  {
   "cell_type": "code",
   "execution_count": 32,
   "id": "fc2e255c",
   "metadata": {},
   "outputs": [
    {
     "name": "stdout",
     "output_type": "stream",
     "text": [
      "{'a': 10, 'b': 20, 'c': 30, 'd': 40, 'e': 50}\n"
     ]
    }
   ],
   "source": [
    "# Write a python program to sort a dictionary by key\n",
    "\n",
    "dict5 = {'e':50, 'b':20, 'c':30, 'a':10, 'd':40}\n",
    "sorted_dict = dict(sorted(dict5.items(), reverse=False))\n",
    "print(sorted_dict)"
   ]
  },
  {
   "cell_type": "code",
   "execution_count": null,
   "id": "98b9127c",
   "metadata": {},
   "outputs": [],
   "source": []
  },
  {
   "cell_type": "code",
   "execution_count": null,
   "id": "242aa876",
   "metadata": {},
   "outputs": [],
   "source": []
  }
 ],
 "metadata": {
  "kernelspec": {
   "display_name": "Python 3 (ipykernel)",
   "language": "python",
   "name": "python3"
  },
  "language_info": {
   "codemirror_mode": {
    "name": "ipython",
    "version": 3
   },
   "file_extension": ".py",
   "mimetype": "text/x-python",
   "name": "python",
   "nbconvert_exporter": "python",
   "pygments_lexer": "ipython3",
   "version": "3.9.13"
  }
 },
 "nbformat": 4,
 "nbformat_minor": 5
}
